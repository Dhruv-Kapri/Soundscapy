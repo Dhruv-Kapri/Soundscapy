{
 "metadata": {
  "language_info": {
   "codemirror_mode": {
    "name": "ipython",
    "version": 3
   },
   "file_extension": ".py",
   "mimetype": "text/x-python",
   "name": "python",
   "nbconvert_exporter": "python",
   "pygments_lexer": "ipython3",
   "version": "3.7.9-final"
  },
  "orig_nbformat": 2,
  "kernelspec": {
   "name": "python3",
   "display_name": "Python 3.7.9 64-bit ('soundscapy': conda)",
   "metadata": {
    "interpreter": {
     "hash": "88ee8c5d3e0ab3748bd395c0504bdd0ac84d81a21bb84065739f6d8e84b56dd2"
    }
   }
  }
 },
 "nbformat": 4,
 "nbformat_minor": 2,
 "cells": [
  {
   "cell_type": "code",
   "execution_count": 1,
   "metadata": {},
   "outputs": [],
   "source": [
    "from pathlib import Path\n",
    "import soundscapy.ssid.database as db\n"
   ]
  },
  {
   "cell_type": "code",
   "execution_count": 2,
   "metadata": {},
   "outputs": [
    {
     "output_type": "execute_result",
     "data": {
      "text/plain": [
       "          GroupID   SessionID LocationID Country  Traffic  Other  Human  \\\n",
       "record_id                                                                 \n",
       "525         CT101  LocationA1  LocationA      UK        4      3      3   \n",
       "526         CT101  LocationA1  LocationA      UK        3      1      2   \n",
       "561         CT101  LocationA1  LocationA      UK        4      3      4   \n",
       "560         CT102  LocationA1  LocationA      UK        3      2      4   \n",
       "527         CT103  LocationA1  LocationA      UK        4      2      4   \n",
       "528         CT104  LocationA1  LocationA      UK        4      3      2   \n",
       "563         CT201  LocationA2  LocationA      UK        5      3      5   \n",
       "570         CT201  LocationA2  LocationA      UK        4      3      2   \n",
       "564         CT202  LocationA2  LocationA      UK        4      4      4   \n",
       "569         CT202  LocationA2  LocationA      UK        4      3      4   \n",
       "567         CT203  LocationA2  LocationA      UK        4      5      4   \n",
       "568         CT203  LocationA2  LocationA      UK        4      2      4   \n",
       "792         RF101  LocationB1  LocationB      UK        3      1      2   \n",
       "793         RF101  LocationB1  LocationB      UK        4      5      5   \n",
       "794         RF102  LocationB1  LocationB      UK        2      1      3   \n",
       "795         RF102  LocationB1  LocationB      UK        1      2      4   \n",
       "796         RF103  LocationB1  LocationB      UK        3      4      3   \n",
       "797         RF103  LocationB1  LocationB      UK        4      4      4   \n",
       "798         RF104  LocationB1  LocationB      UK        3      1      3   \n",
       "799         RF104  LocationB1  LocationB      UK        3      1      2   \n",
       "\n",
       "           Natural  pleasant  chaotic  ...  uneventful  calm  annoying  \\\n",
       "record_id                              ...                               \n",
       "525              2         2        4  ...           2     1         2   \n",
       "526              1         4        3  ...           2     2         4   \n",
       "561              2         3        4  ...           1     1         4   \n",
       "560              1         4        2  ...           5     5         3   \n",
       "527              1         3        4  ...           1     2         2   \n",
       "528              1         2        4  ...           1     2         2   \n",
       "563              1         2        5  ...           1     4         4   \n",
       "570              1         2        4  ...           1     1         3   \n",
       "564              1         3        5  ...           2     1         1   \n",
       "569              1         4        5  ...           2     1         3   \n",
       "567              3         4        5  ...           2     3         2   \n",
       "568              1         4        4  ...           2     3         1   \n",
       "792              2         5        1  ...           1     5         1   \n",
       "793              2         5        2  ...           4     5         1   \n",
       "794              2         5        1  ...           3     5         1   \n",
       "795              4         5        2  ...           2     4         1   \n",
       "796              2         4        3  ...           3     3         3   \n",
       "797              2         3        2  ...           3     4         2   \n",
       "798              3         5        1  ...           1     4         1   \n",
       "799              3         4        3  ...           3     4         2   \n",
       "\n",
       "           eventful  monotonous  overall  appropriateness  loudness  sss04  \\\n",
       "record_id                                                                    \n",
       "525               4           3        2                3         4      1   \n",
       "526               3           2        3                4         2      1   \n",
       "561               2           4        3                2         4      1   \n",
       "560               2           5        2                4         3      1   \n",
       "527               4           1        3                4         3      3   \n",
       "528               4           2        2                3         4      2   \n",
       "563               4           3        2                2         3      3   \n",
       "570               5           1        2                5         3      3   \n",
       "564               5           3        2                3         4      3   \n",
       "569               4           2        4                4         4      2   \n",
       "567               5           5        4                4         5      5   \n",
       "568               4           4        4                5         3      4   \n",
       "792               3           1        4                4         3      1   \n",
       "793               1           3        4                5         4      1   \n",
       "794               3           3        5                5         1      1   \n",
       "795               4           2        5                5         3      5   \n",
       "796               3           2        4                3         3      3   \n",
       "797               3           3        4                3         3      2   \n",
       "798               3           2        4                4         3      1   \n",
       "799               2           1        3                2         2      3   \n",
       "\n",
       "           sss05  \n",
       "record_id         \n",
       "525            2  \n",
       "526            3  \n",
       "561            3  \n",
       "560            2  \n",
       "527            3  \n",
       "528            3  \n",
       "563            4  \n",
       "570            5  \n",
       "564            3  \n",
       "569            3  \n",
       "567            5  \n",
       "568            3  \n",
       "792            5  \n",
       "793            3  \n",
       "794            4  \n",
       "795            5  \n",
       "796            4  \n",
       "797            3  \n",
       "798            5  \n",
       "799            4  \n",
       "\n",
       "[20 rows x 21 columns]"
      ],
      "text/html": "<div>\n<style scoped>\n    .dataframe tbody tr th:only-of-type {\n        vertical-align: middle;\n    }\n\n    .dataframe tbody tr th {\n        vertical-align: top;\n    }\n\n    .dataframe thead th {\n        text-align: right;\n    }\n</style>\n<table border=\"1\" class=\"dataframe\">\n  <thead>\n    <tr style=\"text-align: right;\">\n      <th></th>\n      <th>GroupID</th>\n      <th>SessionID</th>\n      <th>LocationID</th>\n      <th>Country</th>\n      <th>Traffic</th>\n      <th>Other</th>\n      <th>Human</th>\n      <th>Natural</th>\n      <th>pleasant</th>\n      <th>chaotic</th>\n      <th>...</th>\n      <th>uneventful</th>\n      <th>calm</th>\n      <th>annoying</th>\n      <th>eventful</th>\n      <th>monotonous</th>\n      <th>overall</th>\n      <th>appropriateness</th>\n      <th>loudness</th>\n      <th>sss04</th>\n      <th>sss05</th>\n    </tr>\n    <tr>\n      <th>record_id</th>\n      <th></th>\n      <th></th>\n      <th></th>\n      <th></th>\n      <th></th>\n      <th></th>\n      <th></th>\n      <th></th>\n      <th></th>\n      <th></th>\n      <th></th>\n      <th></th>\n      <th></th>\n      <th></th>\n      <th></th>\n      <th></th>\n      <th></th>\n      <th></th>\n      <th></th>\n      <th></th>\n      <th></th>\n    </tr>\n  </thead>\n  <tbody>\n    <tr>\n      <th>525</th>\n      <td>CT101</td>\n      <td>LocationA1</td>\n      <td>LocationA</td>\n      <td>UK</td>\n      <td>4</td>\n      <td>3</td>\n      <td>3</td>\n      <td>2</td>\n      <td>2</td>\n      <td>4</td>\n      <td>...</td>\n      <td>2</td>\n      <td>1</td>\n      <td>2</td>\n      <td>4</td>\n      <td>3</td>\n      <td>2</td>\n      <td>3</td>\n      <td>4</td>\n      <td>1</td>\n      <td>2</td>\n    </tr>\n    <tr>\n      <th>526</th>\n      <td>CT101</td>\n      <td>LocationA1</td>\n      <td>LocationA</td>\n      <td>UK</td>\n      <td>3</td>\n      <td>1</td>\n      <td>2</td>\n      <td>1</td>\n      <td>4</td>\n      <td>3</td>\n      <td>...</td>\n      <td>2</td>\n      <td>2</td>\n      <td>4</td>\n      <td>3</td>\n      <td>2</td>\n      <td>3</td>\n      <td>4</td>\n      <td>2</td>\n      <td>1</td>\n      <td>3</td>\n    </tr>\n    <tr>\n      <th>561</th>\n      <td>CT101</td>\n      <td>LocationA1</td>\n      <td>LocationA</td>\n      <td>UK</td>\n      <td>4</td>\n      <td>3</td>\n      <td>4</td>\n      <td>2</td>\n      <td>3</td>\n      <td>4</td>\n      <td>...</td>\n      <td>1</td>\n      <td>1</td>\n      <td>4</td>\n      <td>2</td>\n      <td>4</td>\n      <td>3</td>\n      <td>2</td>\n      <td>4</td>\n      <td>1</td>\n      <td>3</td>\n    </tr>\n    <tr>\n      <th>560</th>\n      <td>CT102</td>\n      <td>LocationA1</td>\n      <td>LocationA</td>\n      <td>UK</td>\n      <td>3</td>\n      <td>2</td>\n      <td>4</td>\n      <td>1</td>\n      <td>4</td>\n      <td>2</td>\n      <td>...</td>\n      <td>5</td>\n      <td>5</td>\n      <td>3</td>\n      <td>2</td>\n      <td>5</td>\n      <td>2</td>\n      <td>4</td>\n      <td>3</td>\n      <td>1</td>\n      <td>2</td>\n    </tr>\n    <tr>\n      <th>527</th>\n      <td>CT103</td>\n      <td>LocationA1</td>\n      <td>LocationA</td>\n      <td>UK</td>\n      <td>4</td>\n      <td>2</td>\n      <td>4</td>\n      <td>1</td>\n      <td>3</td>\n      <td>4</td>\n      <td>...</td>\n      <td>1</td>\n      <td>2</td>\n      <td>2</td>\n      <td>4</td>\n      <td>1</td>\n      <td>3</td>\n      <td>4</td>\n      <td>3</td>\n      <td>3</td>\n      <td>3</td>\n    </tr>\n    <tr>\n      <th>528</th>\n      <td>CT104</td>\n      <td>LocationA1</td>\n      <td>LocationA</td>\n      <td>UK</td>\n      <td>4</td>\n      <td>3</td>\n      <td>2</td>\n      <td>1</td>\n      <td>2</td>\n      <td>4</td>\n      <td>...</td>\n      <td>1</td>\n      <td>2</td>\n      <td>2</td>\n      <td>4</td>\n      <td>2</td>\n      <td>2</td>\n      <td>3</td>\n      <td>4</td>\n      <td>2</td>\n      <td>3</td>\n    </tr>\n    <tr>\n      <th>563</th>\n      <td>CT201</td>\n      <td>LocationA2</td>\n      <td>LocationA</td>\n      <td>UK</td>\n      <td>5</td>\n      <td>3</td>\n      <td>5</td>\n      <td>1</td>\n      <td>2</td>\n      <td>5</td>\n      <td>...</td>\n      <td>1</td>\n      <td>4</td>\n      <td>4</td>\n      <td>4</td>\n      <td>3</td>\n      <td>2</td>\n      <td>2</td>\n      <td>3</td>\n      <td>3</td>\n      <td>4</td>\n    </tr>\n    <tr>\n      <th>570</th>\n      <td>CT201</td>\n      <td>LocationA2</td>\n      <td>LocationA</td>\n      <td>UK</td>\n      <td>4</td>\n      <td>3</td>\n      <td>2</td>\n      <td>1</td>\n      <td>2</td>\n      <td>4</td>\n      <td>...</td>\n      <td>1</td>\n      <td>1</td>\n      <td>3</td>\n      <td>5</td>\n      <td>1</td>\n      <td>2</td>\n      <td>5</td>\n      <td>3</td>\n      <td>3</td>\n      <td>5</td>\n    </tr>\n    <tr>\n      <th>564</th>\n      <td>CT202</td>\n      <td>LocationA2</td>\n      <td>LocationA</td>\n      <td>UK</td>\n      <td>4</td>\n      <td>4</td>\n      <td>4</td>\n      <td>1</td>\n      <td>3</td>\n      <td>5</td>\n      <td>...</td>\n      <td>2</td>\n      <td>1</td>\n      <td>1</td>\n      <td>5</td>\n      <td>3</td>\n      <td>2</td>\n      <td>3</td>\n      <td>4</td>\n      <td>3</td>\n      <td>3</td>\n    </tr>\n    <tr>\n      <th>569</th>\n      <td>CT202</td>\n      <td>LocationA2</td>\n      <td>LocationA</td>\n      <td>UK</td>\n      <td>4</td>\n      <td>3</td>\n      <td>4</td>\n      <td>1</td>\n      <td>4</td>\n      <td>5</td>\n      <td>...</td>\n      <td>2</td>\n      <td>1</td>\n      <td>3</td>\n      <td>4</td>\n      <td>2</td>\n      <td>4</td>\n      <td>4</td>\n      <td>4</td>\n      <td>2</td>\n      <td>3</td>\n    </tr>\n    <tr>\n      <th>567</th>\n      <td>CT203</td>\n      <td>LocationA2</td>\n      <td>LocationA</td>\n      <td>UK</td>\n      <td>4</td>\n      <td>5</td>\n      <td>4</td>\n      <td>3</td>\n      <td>4</td>\n      <td>5</td>\n      <td>...</td>\n      <td>2</td>\n      <td>3</td>\n      <td>2</td>\n      <td>5</td>\n      <td>5</td>\n      <td>4</td>\n      <td>4</td>\n      <td>5</td>\n      <td>5</td>\n      <td>5</td>\n    </tr>\n    <tr>\n      <th>568</th>\n      <td>CT203</td>\n      <td>LocationA2</td>\n      <td>LocationA</td>\n      <td>UK</td>\n      <td>4</td>\n      <td>2</td>\n      <td>4</td>\n      <td>1</td>\n      <td>4</td>\n      <td>4</td>\n      <td>...</td>\n      <td>2</td>\n      <td>3</td>\n      <td>1</td>\n      <td>4</td>\n      <td>4</td>\n      <td>4</td>\n      <td>5</td>\n      <td>3</td>\n      <td>4</td>\n      <td>3</td>\n    </tr>\n    <tr>\n      <th>792</th>\n      <td>RF101</td>\n      <td>LocationB1</td>\n      <td>LocationB</td>\n      <td>UK</td>\n      <td>3</td>\n      <td>1</td>\n      <td>2</td>\n      <td>2</td>\n      <td>5</td>\n      <td>1</td>\n      <td>...</td>\n      <td>1</td>\n      <td>5</td>\n      <td>1</td>\n      <td>3</td>\n      <td>1</td>\n      <td>4</td>\n      <td>4</td>\n      <td>3</td>\n      <td>1</td>\n      <td>5</td>\n    </tr>\n    <tr>\n      <th>793</th>\n      <td>RF101</td>\n      <td>LocationB1</td>\n      <td>LocationB</td>\n      <td>UK</td>\n      <td>4</td>\n      <td>5</td>\n      <td>5</td>\n      <td>2</td>\n      <td>5</td>\n      <td>2</td>\n      <td>...</td>\n      <td>4</td>\n      <td>5</td>\n      <td>1</td>\n      <td>1</td>\n      <td>3</td>\n      <td>4</td>\n      <td>5</td>\n      <td>4</td>\n      <td>1</td>\n      <td>3</td>\n    </tr>\n    <tr>\n      <th>794</th>\n      <td>RF102</td>\n      <td>LocationB1</td>\n      <td>LocationB</td>\n      <td>UK</td>\n      <td>2</td>\n      <td>1</td>\n      <td>3</td>\n      <td>2</td>\n      <td>5</td>\n      <td>1</td>\n      <td>...</td>\n      <td>3</td>\n      <td>5</td>\n      <td>1</td>\n      <td>3</td>\n      <td>3</td>\n      <td>5</td>\n      <td>5</td>\n      <td>1</td>\n      <td>1</td>\n      <td>4</td>\n    </tr>\n    <tr>\n      <th>795</th>\n      <td>RF102</td>\n      <td>LocationB1</td>\n      <td>LocationB</td>\n      <td>UK</td>\n      <td>1</td>\n      <td>2</td>\n      <td>4</td>\n      <td>4</td>\n      <td>5</td>\n      <td>2</td>\n      <td>...</td>\n      <td>2</td>\n      <td>4</td>\n      <td>1</td>\n      <td>4</td>\n      <td>2</td>\n      <td>5</td>\n      <td>5</td>\n      <td>3</td>\n      <td>5</td>\n      <td>5</td>\n    </tr>\n    <tr>\n      <th>796</th>\n      <td>RF103</td>\n      <td>LocationB1</td>\n      <td>LocationB</td>\n      <td>UK</td>\n      <td>3</td>\n      <td>4</td>\n      <td>3</td>\n      <td>2</td>\n      <td>4</td>\n      <td>3</td>\n      <td>...</td>\n      <td>3</td>\n      <td>3</td>\n      <td>3</td>\n      <td>3</td>\n      <td>2</td>\n      <td>4</td>\n      <td>3</td>\n      <td>3</td>\n      <td>3</td>\n      <td>4</td>\n    </tr>\n    <tr>\n      <th>797</th>\n      <td>RF103</td>\n      <td>LocationB1</td>\n      <td>LocationB</td>\n      <td>UK</td>\n      <td>4</td>\n      <td>4</td>\n      <td>4</td>\n      <td>2</td>\n      <td>3</td>\n      <td>2</td>\n      <td>...</td>\n      <td>3</td>\n      <td>4</td>\n      <td>2</td>\n      <td>3</td>\n      <td>3</td>\n      <td>4</td>\n      <td>3</td>\n      <td>3</td>\n      <td>2</td>\n      <td>3</td>\n    </tr>\n    <tr>\n      <th>798</th>\n      <td>RF104</td>\n      <td>LocationB1</td>\n      <td>LocationB</td>\n      <td>UK</td>\n      <td>3</td>\n      <td>1</td>\n      <td>3</td>\n      <td>3</td>\n      <td>5</td>\n      <td>1</td>\n      <td>...</td>\n      <td>1</td>\n      <td>4</td>\n      <td>1</td>\n      <td>3</td>\n      <td>2</td>\n      <td>4</td>\n      <td>4</td>\n      <td>3</td>\n      <td>1</td>\n      <td>5</td>\n    </tr>\n    <tr>\n      <th>799</th>\n      <td>RF104</td>\n      <td>LocationB1</td>\n      <td>LocationB</td>\n      <td>UK</td>\n      <td>3</td>\n      <td>1</td>\n      <td>2</td>\n      <td>3</td>\n      <td>4</td>\n      <td>3</td>\n      <td>...</td>\n      <td>3</td>\n      <td>4</td>\n      <td>2</td>\n      <td>2</td>\n      <td>1</td>\n      <td>3</td>\n      <td>2</td>\n      <td>2</td>\n      <td>3</td>\n      <td>4</td>\n    </tr>\n  </tbody>\n</table>\n<p>20 rows × 21 columns</p>\n</div>"
     },
     "metadata": {},
     "execution_count": 2
    }
   ],
   "source": [
    "csv_file = Path('soundscapy/test/test_DB/TestDataOnly_2021-01-07.csv')\n",
    "sf = db.SurveyFrame().from_csv(csv_file)\n",
    "sf"
   ]
  },
  {
   "source": [
    "`SurveyFrame` is just an extension of the pandas `DataFrame`, with some new methods specific to the SSID surveys! You should be able to use any of the standard dataframe methods on it.\n",
    "\n",
    "`SurveyFrame` automatically tags itself with the date you're working with it, stored in `_analysis_date`"
   ],
   "cell_type": "markdown",
   "metadata": {}
  },
  {
   "cell_type": "code",
   "execution_count": 3,
   "metadata": {},
   "outputs": [
    {
     "output_type": "execute_result",
     "data": {
      "text/plain": [
       "'2021-01-24'"
      ]
     },
     "metadata": {},
     "execution_count": 3
    }
   ],
   "source": [
    "sf._analysis_date"
   ]
  },
  {
   "cell_type": "code",
   "execution_count": 4,
   "metadata": {},
   "outputs": [
    {
     "output_type": "execute_result",
     "data": {
      "text/plain": [
       "GroupID            CT101CT101CT101CT102CT103CT104CT201CT201CT202C...\n",
       "SessionID          LocationA1LocationA1LocationA1LocationA1Locati...\n",
       "LocationID         LocationALocationALocationALocationALocationAL...\n",
       "Country                     UKUKUKUKUKUKUKUKUKUKUKUKUKUKUKUKUKUKUKUK\n",
       "Traffic                                                           70\n",
       "Other                                                             53\n",
       "Human                                                             68\n",
       "Natural                                                           36\n",
       "pleasant                                                          73\n",
       "chaotic                                                           64\n",
       "vibrant                                                           71\n",
       "uneventful                                                        42\n",
       "calm                                                              60\n",
       "annoying                                                          43\n",
       "eventful                                                          68\n",
       "monotonous                                                        52\n",
       "overall                                                           66\n",
       "appropriateness                                                   74\n",
       "loudness                                                          64\n",
       "sss04                                                             46\n",
       "sss05                                                             72\n",
       "dtype: object"
      ]
     },
     "metadata": {},
     "execution_count": 4
    }
   ],
   "source": [
    "sf.sum()"
   ]
  },
  {
   "cell_type": "code",
   "execution_count": 12,
   "metadata": {},
   "outputs": [
    {
     "output_type": "execute_result",
     "data": {
      "text/plain": [
       "count    20.000000\n",
       "mean      0.210248\n",
       "std       0.366891\n",
       "min      -0.469670\n",
       "25%      -0.020146\n",
       "50%       0.176777\n",
       "75%       0.460248\n",
       "max       0.853553\n",
       "dtype: float64"
      ]
     },
     "metadata": {},
     "execution_count": 12
    }
   ],
   "source": [
    "Pleasant, Eventful = sf.calculate_complex_paqs()\n",
    "Pleasant.describe()"
   ]
  },
  {
   "cell_type": "code",
   "execution_count": 14,
   "metadata": {},
   "outputs": [
    {
     "output_type": "execute_result",
     "data": {
      "text/plain": [
       "record_id\n",
       "525    0.426777\n",
       "526    0.250000\n",
       "561    0.176777\n",
       "560   -0.750000\n",
       "527    0.750000\n",
       "528    0.676777\n",
       "563    0.383883\n",
       "570    0.853553\n",
       "564    0.676777\n",
       "569    0.646447\n",
       "567    0.457107\n",
       "568    0.353553\n",
       "792   -0.012563\n",
       "793   -0.457107\n",
       "794   -0.366117\n",
       "795    0.060660\n",
       "796    0.219670\n",
       "797   -0.146447\n",
       "798    0.207107\n",
       "799   -0.030330\n",
       "dtype: float64"
      ]
     },
     "metadata": {},
     "execution_count": 14
    }
   ],
   "source": [
    "Eventful"
   ]
  },
  {
   "cell_type": "code",
   "execution_count": null,
   "metadata": {},
   "outputs": [],
   "source": []
  }
 ]
}