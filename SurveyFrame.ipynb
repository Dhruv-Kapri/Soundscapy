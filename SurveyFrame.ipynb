{
 "metadata": {
  "language_info": {
   "codemirror_mode": {
    "name": "ipython",
    "version": 3
   },
   "file_extension": ".py",
   "mimetype": "text/x-python",
   "name": "python",
   "nbconvert_exporter": "python",
   "pygments_lexer": "ipython3",
   "version": "3.7.9-final"
  },
  "orig_nbformat": 2,
  "kernelspec": {
   "name": "python3",
   "display_name": "Python 3.7.9 64-bit ('soundscapy': conda)",
   "metadata": {
    "interpreter": {
     "hash": "88ee8c5d3e0ab3748bd395c0504bdd0ac84d81a21bb84065739f6d8e84b56dd2"
    }
   }
  }
 },
 "nbformat": 4,
 "nbformat_minor": 2,
 "cells": [
  {
   "cell_type": "code",
   "execution_count": 94,
   "metadata": {},
   "outputs": [
    {
     "name": "stdout",
     "output_type": "stream",
     "text": [
      "The autoreload extension is already loaded. To reload it, use:\n",
      "  %reload_ext autoreload\n"
     ]
    }
   ],
   "source": [
    "%load_ext autoreload\n",
    "%autoreload\n",
    "from pathlib import Path\n",
    "import soundscapy.ssid.database as db\n",
    "from soundscapy.ssid.parameters import PAQ_COLS"
   ]
  },
  {
   "cell_type": "code",
   "execution_count": 95,
   "metadata": {},
   "outputs": [
    {
     "data": {
      "text/plain": "          GroupID   SessionID LocationID Country  Traffic  Other  Human  \\\nrecord_id                                                                 \n525         CT101  LocationA1  LocationA      UK        4      3      3   \n526         CT101  LocationA1  LocationA      UK        3      1      2   \n561         CT101  LocationA1  LocationA      UK        4      3      4   \n560         CT102  LocationA1  LocationA      UK        3      2      4   \n527         CT103  LocationA1  LocationA      UK        4      2      4   \n528         CT104  LocationA1  LocationA      UK        4      3      2   \n563         CT201  LocationA2  LocationA      UK        5      3      5   \n570         CT201  LocationA2  LocationA      UK        4      3      2   \n564         CT202  LocationA2  LocationA      UK        4      4      4   \n569         CT202  LocationA2  LocationA      UK        4      3      4   \n567         CT203  LocationA2  LocationA      UK        4      5      4   \n568         CT203  LocationA2  LocationA      UK        4      2      4   \n792         RF101  LocationB1  LocationB      UK        3      1      2   \n793         RF101  LocationB1  LocationB      UK        4      5      5   \n794         RF102  LocationB1  LocationB      UK        2      1      3   \n795         RF102  LocationB1  LocationB      UK        1      2      4   \n796         RF103  LocationB1  LocationB      UK        3      4      3   \n797         RF103  LocationB1  LocationB      UK        4      4      4   \n798         RF104  LocationB1  LocationB      UK        3      1      3   \n799         RF104  LocationB1  LocationB      UK        3      1      2   \n\n           Natural  pleasant  chaotic  ...  uneventful  calm  annoying  \\\nrecord_id                              ...                               \n525              2         2        4  ...           2     1         2   \n526              1         4        3  ...           2     2         4   \n561              2         3        4  ...           1     1         4   \n560              1         4        2  ...           5     5         3   \n527              1         3        4  ...           1     2         2   \n528              1         2        4  ...           1     2         2   \n563              1         2        5  ...           1     4         4   \n570              1         2        4  ...           1     1         3   \n564              1         3        5  ...           2     1         1   \n569              1         4        5  ...           2     1         3   \n567              3         4        5  ...           2     3         2   \n568              1         4        4  ...           2     3         1   \n792              2         5        1  ...           1     5         1   \n793              2         5        2  ...           4     5         1   \n794              2         5        1  ...           3     5         1   \n795              4         5        2  ...           2     4         1   \n796              2         4        3  ...           3     3         3   \n797              2         3        2  ...           3     4         2   \n798              3         5        1  ...           1     4         1   \n799              3         4        3  ...           3     4         2   \n\n           eventful  monotonous  overall  appropriateness  loudness  sss04  \\\nrecord_id                                                                    \n525               4           3        2                3         4      1   \n526               3           2        3                4         2      1   \n561               2           4        3                2         4      1   \n560               2           5        2                4         3      1   \n527               4           1        3                4         3      3   \n528               4           2        2                3         4      2   \n563               4           3        2                2         3      3   \n570               5           1        2                5         3      3   \n564               5           3        2                3         4      3   \n569               4           2        4                4         4      2   \n567               5           5        4                4         5      5   \n568               4           4        4                5         3      4   \n792               3           1        4                4         3      1   \n793               1           3        4                5         4      1   \n794               3           3        5                5         1      1   \n795               4           2        5                5         3      5   \n796               3           2        4                3         3      3   \n797               3           3        4                3         3      2   \n798               3           2        4                4         3      1   \n799               2           1        3                2         2      3   \n\n           sss05  \nrecord_id         \n525            2  \n526            3  \n561            3  \n560            2  \n527            3  \n528            3  \n563            4  \n570            5  \n564            3  \n569            3  \n567            5  \n568            3  \n792            5  \n793            3  \n794            4  \n795            5  \n796            4  \n797            3  \n798            5  \n799            4  \n\n[20 rows x 21 columns]",
      "text/html": "<div>\n<style scoped>\n    .dataframe tbody tr th:only-of-type {\n        vertical-align: middle;\n    }\n\n    .dataframe tbody tr th {\n        vertical-align: top;\n    }\n\n    .dataframe thead th {\n        text-align: right;\n    }\n</style>\n<table border=\"1\" class=\"dataframe\">\n  <thead>\n    <tr style=\"text-align: right;\">\n      <th></th>\n      <th>GroupID</th>\n      <th>SessionID</th>\n      <th>LocationID</th>\n      <th>Country</th>\n      <th>Traffic</th>\n      <th>Other</th>\n      <th>Human</th>\n      <th>Natural</th>\n      <th>pleasant</th>\n      <th>chaotic</th>\n      <th>...</th>\n      <th>uneventful</th>\n      <th>calm</th>\n      <th>annoying</th>\n      <th>eventful</th>\n      <th>monotonous</th>\n      <th>overall</th>\n      <th>appropriateness</th>\n      <th>loudness</th>\n      <th>sss04</th>\n      <th>sss05</th>\n    </tr>\n    <tr>\n      <th>record_id</th>\n      <th></th>\n      <th></th>\n      <th></th>\n      <th></th>\n      <th></th>\n      <th></th>\n      <th></th>\n      <th></th>\n      <th></th>\n      <th></th>\n      <th></th>\n      <th></th>\n      <th></th>\n      <th></th>\n      <th></th>\n      <th></th>\n      <th></th>\n      <th></th>\n      <th></th>\n      <th></th>\n      <th></th>\n    </tr>\n  </thead>\n  <tbody>\n    <tr>\n      <th>525</th>\n      <td>CT101</td>\n      <td>LocationA1</td>\n      <td>LocationA</td>\n      <td>UK</td>\n      <td>4</td>\n      <td>3</td>\n      <td>3</td>\n      <td>2</td>\n      <td>2</td>\n      <td>4</td>\n      <td>...</td>\n      <td>2</td>\n      <td>1</td>\n      <td>2</td>\n      <td>4</td>\n      <td>3</td>\n      <td>2</td>\n      <td>3</td>\n      <td>4</td>\n      <td>1</td>\n      <td>2</td>\n    </tr>\n    <tr>\n      <th>526</th>\n      <td>CT101</td>\n      <td>LocationA1</td>\n      <td>LocationA</td>\n      <td>UK</td>\n      <td>3</td>\n      <td>1</td>\n      <td>2</td>\n      <td>1</td>\n      <td>4</td>\n      <td>3</td>\n      <td>...</td>\n      <td>2</td>\n      <td>2</td>\n      <td>4</td>\n      <td>3</td>\n      <td>2</td>\n      <td>3</td>\n      <td>4</td>\n      <td>2</td>\n      <td>1</td>\n      <td>3</td>\n    </tr>\n    <tr>\n      <th>561</th>\n      <td>CT101</td>\n      <td>LocationA1</td>\n      <td>LocationA</td>\n      <td>UK</td>\n      <td>4</td>\n      <td>3</td>\n      <td>4</td>\n      <td>2</td>\n      <td>3</td>\n      <td>4</td>\n      <td>...</td>\n      <td>1</td>\n      <td>1</td>\n      <td>4</td>\n      <td>2</td>\n      <td>4</td>\n      <td>3</td>\n      <td>2</td>\n      <td>4</td>\n      <td>1</td>\n      <td>3</td>\n    </tr>\n    <tr>\n      <th>560</th>\n      <td>CT102</td>\n      <td>LocationA1</td>\n      <td>LocationA</td>\n      <td>UK</td>\n      <td>3</td>\n      <td>2</td>\n      <td>4</td>\n      <td>1</td>\n      <td>4</td>\n      <td>2</td>\n      <td>...</td>\n      <td>5</td>\n      <td>5</td>\n      <td>3</td>\n      <td>2</td>\n      <td>5</td>\n      <td>2</td>\n      <td>4</td>\n      <td>3</td>\n      <td>1</td>\n      <td>2</td>\n    </tr>\n    <tr>\n      <th>527</th>\n      <td>CT103</td>\n      <td>LocationA1</td>\n      <td>LocationA</td>\n      <td>UK</td>\n      <td>4</td>\n      <td>2</td>\n      <td>4</td>\n      <td>1</td>\n      <td>3</td>\n      <td>4</td>\n      <td>...</td>\n      <td>1</td>\n      <td>2</td>\n      <td>2</td>\n      <td>4</td>\n      <td>1</td>\n      <td>3</td>\n      <td>4</td>\n      <td>3</td>\n      <td>3</td>\n      <td>3</td>\n    </tr>\n    <tr>\n      <th>528</th>\n      <td>CT104</td>\n      <td>LocationA1</td>\n      <td>LocationA</td>\n      <td>UK</td>\n      <td>4</td>\n      <td>3</td>\n      <td>2</td>\n      <td>1</td>\n      <td>2</td>\n      <td>4</td>\n      <td>...</td>\n      <td>1</td>\n      <td>2</td>\n      <td>2</td>\n      <td>4</td>\n      <td>2</td>\n      <td>2</td>\n      <td>3</td>\n      <td>4</td>\n      <td>2</td>\n      <td>3</td>\n    </tr>\n    <tr>\n      <th>563</th>\n      <td>CT201</td>\n      <td>LocationA2</td>\n      <td>LocationA</td>\n      <td>UK</td>\n      <td>5</td>\n      <td>3</td>\n      <td>5</td>\n      <td>1</td>\n      <td>2</td>\n      <td>5</td>\n      <td>...</td>\n      <td>1</td>\n      <td>4</td>\n      <td>4</td>\n      <td>4</td>\n      <td>3</td>\n      <td>2</td>\n      <td>2</td>\n      <td>3</td>\n      <td>3</td>\n      <td>4</td>\n    </tr>\n    <tr>\n      <th>570</th>\n      <td>CT201</td>\n      <td>LocationA2</td>\n      <td>LocationA</td>\n      <td>UK</td>\n      <td>4</td>\n      <td>3</td>\n      <td>2</td>\n      <td>1</td>\n      <td>2</td>\n      <td>4</td>\n      <td>...</td>\n      <td>1</td>\n      <td>1</td>\n      <td>3</td>\n      <td>5</td>\n      <td>1</td>\n      <td>2</td>\n      <td>5</td>\n      <td>3</td>\n      <td>3</td>\n      <td>5</td>\n    </tr>\n    <tr>\n      <th>564</th>\n      <td>CT202</td>\n      <td>LocationA2</td>\n      <td>LocationA</td>\n      <td>UK</td>\n      <td>4</td>\n      <td>4</td>\n      <td>4</td>\n      <td>1</td>\n      <td>3</td>\n      <td>5</td>\n      <td>...</td>\n      <td>2</td>\n      <td>1</td>\n      <td>1</td>\n      <td>5</td>\n      <td>3</td>\n      <td>2</td>\n      <td>3</td>\n      <td>4</td>\n      <td>3</td>\n      <td>3</td>\n    </tr>\n    <tr>\n      <th>569</th>\n      <td>CT202</td>\n      <td>LocationA2</td>\n      <td>LocationA</td>\n      <td>UK</td>\n      <td>4</td>\n      <td>3</td>\n      <td>4</td>\n      <td>1</td>\n      <td>4</td>\n      <td>5</td>\n      <td>...</td>\n      <td>2</td>\n      <td>1</td>\n      <td>3</td>\n      <td>4</td>\n      <td>2</td>\n      <td>4</td>\n      <td>4</td>\n      <td>4</td>\n      <td>2</td>\n      <td>3</td>\n    </tr>\n    <tr>\n      <th>567</th>\n      <td>CT203</td>\n      <td>LocationA2</td>\n      <td>LocationA</td>\n      <td>UK</td>\n      <td>4</td>\n      <td>5</td>\n      <td>4</td>\n      <td>3</td>\n      <td>4</td>\n      <td>5</td>\n      <td>...</td>\n      <td>2</td>\n      <td>3</td>\n      <td>2</td>\n      <td>5</td>\n      <td>5</td>\n      <td>4</td>\n      <td>4</td>\n      <td>5</td>\n      <td>5</td>\n      <td>5</td>\n    </tr>\n    <tr>\n      <th>568</th>\n      <td>CT203</td>\n      <td>LocationA2</td>\n      <td>LocationA</td>\n      <td>UK</td>\n      <td>4</td>\n      <td>2</td>\n      <td>4</td>\n      <td>1</td>\n      <td>4</td>\n      <td>4</td>\n      <td>...</td>\n      <td>2</td>\n      <td>3</td>\n      <td>1</td>\n      <td>4</td>\n      <td>4</td>\n      <td>4</td>\n      <td>5</td>\n      <td>3</td>\n      <td>4</td>\n      <td>3</td>\n    </tr>\n    <tr>\n      <th>792</th>\n      <td>RF101</td>\n      <td>LocationB1</td>\n      <td>LocationB</td>\n      <td>UK</td>\n      <td>3</td>\n      <td>1</td>\n      <td>2</td>\n      <td>2</td>\n      <td>5</td>\n      <td>1</td>\n      <td>...</td>\n      <td>1</td>\n      <td>5</td>\n      <td>1</td>\n      <td>3</td>\n      <td>1</td>\n      <td>4</td>\n      <td>4</td>\n      <td>3</td>\n      <td>1</td>\n      <td>5</td>\n    </tr>\n    <tr>\n      <th>793</th>\n      <td>RF101</td>\n      <td>LocationB1</td>\n      <td>LocationB</td>\n      <td>UK</td>\n      <td>4</td>\n      <td>5</td>\n      <td>5</td>\n      <td>2</td>\n      <td>5</td>\n      <td>2</td>\n      <td>...</td>\n      <td>4</td>\n      <td>5</td>\n      <td>1</td>\n      <td>1</td>\n      <td>3</td>\n      <td>4</td>\n      <td>5</td>\n      <td>4</td>\n      <td>1</td>\n      <td>3</td>\n    </tr>\n    <tr>\n      <th>794</th>\n      <td>RF102</td>\n      <td>LocationB1</td>\n      <td>LocationB</td>\n      <td>UK</td>\n      <td>2</td>\n      <td>1</td>\n      <td>3</td>\n      <td>2</td>\n      <td>5</td>\n      <td>1</td>\n      <td>...</td>\n      <td>3</td>\n      <td>5</td>\n      <td>1</td>\n      <td>3</td>\n      <td>3</td>\n      <td>5</td>\n      <td>5</td>\n      <td>1</td>\n      <td>1</td>\n      <td>4</td>\n    </tr>\n    <tr>\n      <th>795</th>\n      <td>RF102</td>\n      <td>LocationB1</td>\n      <td>LocationB</td>\n      <td>UK</td>\n      <td>1</td>\n      <td>2</td>\n      <td>4</td>\n      <td>4</td>\n      <td>5</td>\n      <td>2</td>\n      <td>...</td>\n      <td>2</td>\n      <td>4</td>\n      <td>1</td>\n      <td>4</td>\n      <td>2</td>\n      <td>5</td>\n      <td>5</td>\n      <td>3</td>\n      <td>5</td>\n      <td>5</td>\n    </tr>\n    <tr>\n      <th>796</th>\n      <td>RF103</td>\n      <td>LocationB1</td>\n      <td>LocationB</td>\n      <td>UK</td>\n      <td>3</td>\n      <td>4</td>\n      <td>3</td>\n      <td>2</td>\n      <td>4</td>\n      <td>3</td>\n      <td>...</td>\n      <td>3</td>\n      <td>3</td>\n      <td>3</td>\n      <td>3</td>\n      <td>2</td>\n      <td>4</td>\n      <td>3</td>\n      <td>3</td>\n      <td>3</td>\n      <td>4</td>\n    </tr>\n    <tr>\n      <th>797</th>\n      <td>RF103</td>\n      <td>LocationB1</td>\n      <td>LocationB</td>\n      <td>UK</td>\n      <td>4</td>\n      <td>4</td>\n      <td>4</td>\n      <td>2</td>\n      <td>3</td>\n      <td>2</td>\n      <td>...</td>\n      <td>3</td>\n      <td>4</td>\n      <td>2</td>\n      <td>3</td>\n      <td>3</td>\n      <td>4</td>\n      <td>3</td>\n      <td>3</td>\n      <td>2</td>\n      <td>3</td>\n    </tr>\n    <tr>\n      <th>798</th>\n      <td>RF104</td>\n      <td>LocationB1</td>\n      <td>LocationB</td>\n      <td>UK</td>\n      <td>3</td>\n      <td>1</td>\n      <td>3</td>\n      <td>3</td>\n      <td>5</td>\n      <td>1</td>\n      <td>...</td>\n      <td>1</td>\n      <td>4</td>\n      <td>1</td>\n      <td>3</td>\n      <td>2</td>\n      <td>4</td>\n      <td>4</td>\n      <td>3</td>\n      <td>1</td>\n      <td>5</td>\n    </tr>\n    <tr>\n      <th>799</th>\n      <td>RF104</td>\n      <td>LocationB1</td>\n      <td>LocationB</td>\n      <td>UK</td>\n      <td>3</td>\n      <td>1</td>\n      <td>2</td>\n      <td>3</td>\n      <td>4</td>\n      <td>3</td>\n      <td>...</td>\n      <td>3</td>\n      <td>4</td>\n      <td>2</td>\n      <td>2</td>\n      <td>1</td>\n      <td>3</td>\n      <td>2</td>\n      <td>2</td>\n      <td>3</td>\n      <td>4</td>\n    </tr>\n  </tbody>\n</table>\n<p>20 rows × 21 columns</p>\n</div>"
     },
     "execution_count": 95,
     "metadata": {},
     "output_type": "execute_result"
    }
   ],
   "source": [
    "csv_file = Path('soundscapy/test/test_DB/TestDataOnly_2021-01-07.csv')\n",
    "sf = db.SurveyFrame().from_csv(csv_file)\n",
    "sf"
   ]
  },
  {
   "cell_type": "code",
   "execution_count": 97,
   "outputs": [
    {
     "data": {
      "text/plain": "          LocationID    SessionID GroupID  RecordID Language  Lockdown  \\\nRecordID                                                                 \n525.0     CamdenTown  CamdenTown1   CT101     525.0  English         0   \n561.0     CamdenTown  CamdenTown1   CT101     561.0  English         0   \n526.0     CamdenTown  CamdenTown1   CT101     526.0  English         0   \n560.0     CamdenTown  CamdenTown1   CT102     560.0  English         0   \n527.0     CamdenTown  CamdenTown1   CT103     527.0  English         0   \n\n                  start_time            end_time   latitude  longitude  ...  \\\nRecordID                                                                ...   \n525.0    2019-05-02 11:40:00 2019-05-02 11:43:00  51.539124  -0.142624  ...   \n561.0    2019-05-02 11:40:00 2019-05-02 11:43:00  51.539124  -0.142624  ...   \n526.0    2019-05-02 11:41:00 2019-05-02 11:44:00  51.539124  -0.142624  ...   \n560.0    2019-05-02 11:50:00 2019-05-02 11:53:00  51.539124  -0.142624  ...   \n527.0    2019-05-02 11:49:00 2019-05-02 11:54:00  51.539124  -0.142624  ...   \n\n          FS_Avg,arith(vacil)  I_HM_Avg,arith(iu)  Ton_HM_Avg,arith(tuHMS)  \\\nRecordID                                                                     \n525.0                 0.01700               0.358                    0.309   \n561.0                 0.01700               0.358                    0.309   \n526.0                 0.01700               0.358                    0.309   \n560.0                 0.01790               0.362                    0.268   \n527.0                 0.00889               0.370                    0.193   \n\n          LZeq_L(dB(SPL))  LAeq_L(A)(dB(SPL))  LA10_LA90(dB(SPL))  \\\nRecordID                                                            \n525.0               79.72               70.07                7.78   \n561.0               79.72               70.07                7.78   \n526.0               79.72               70.07                7.78   \n560.0               80.27               71.26                8.38   \n527.0               76.79               66.71                4.23   \n\n          LCeq_LAeq(dB(SPL))  LC10_LC90(dB(SPL))  RA_2D_cp(cPa)  PA(Zwicker)  \nRecordID                                                                      \n525.0                   7.81                8.11           14.3    36.019181  \n561.0                   7.81                8.11           14.3    36.019181  \n526.0                   7.81                8.11           14.3    36.019181  \n560.0                   6.25                7.82           14.7    40.523268  \n527.0                   7.61                3.99           13.4    27.108635  \n\n[5 rows x 78 columns]",
      "text/html": "<div>\n<style scoped>\n    .dataframe tbody tr th:only-of-type {\n        vertical-align: middle;\n    }\n\n    .dataframe tbody tr th {\n        vertical-align: top;\n    }\n\n    .dataframe thead th {\n        text-align: right;\n    }\n</style>\n<table border=\"1\" class=\"dataframe\">\n  <thead>\n    <tr style=\"text-align: right;\">\n      <th></th>\n      <th>LocationID</th>\n      <th>SessionID</th>\n      <th>GroupID</th>\n      <th>RecordID</th>\n      <th>Language</th>\n      <th>Lockdown</th>\n      <th>start_time</th>\n      <th>end_time</th>\n      <th>latitude</th>\n      <th>longitude</th>\n      <th>...</th>\n      <th>FS_Avg,arith(vacil)</th>\n      <th>I_HM_Avg,arith(iu)</th>\n      <th>Ton_HM_Avg,arith(tuHMS)</th>\n      <th>LZeq_L(dB(SPL))</th>\n      <th>LAeq_L(A)(dB(SPL))</th>\n      <th>LA10_LA90(dB(SPL))</th>\n      <th>LCeq_LAeq(dB(SPL))</th>\n      <th>LC10_LC90(dB(SPL))</th>\n      <th>RA_2D_cp(cPa)</th>\n      <th>PA(Zwicker)</th>\n    </tr>\n    <tr>\n      <th>RecordID</th>\n      <th></th>\n      <th></th>\n      <th></th>\n      <th></th>\n      <th></th>\n      <th></th>\n      <th></th>\n      <th></th>\n      <th></th>\n      <th></th>\n      <th></th>\n      <th></th>\n      <th></th>\n      <th></th>\n      <th></th>\n      <th></th>\n      <th></th>\n      <th></th>\n      <th></th>\n      <th></th>\n      <th></th>\n    </tr>\n  </thead>\n  <tbody>\n    <tr>\n      <th>525.0</th>\n      <td>CamdenTown</td>\n      <td>CamdenTown1</td>\n      <td>CT101</td>\n      <td>525.0</td>\n      <td>English</td>\n      <td>0</td>\n      <td>2019-05-02 11:40:00</td>\n      <td>2019-05-02 11:43:00</td>\n      <td>51.539124</td>\n      <td>-0.142624</td>\n      <td>...</td>\n      <td>0.01700</td>\n      <td>0.358</td>\n      <td>0.309</td>\n      <td>79.72</td>\n      <td>70.07</td>\n      <td>7.78</td>\n      <td>7.81</td>\n      <td>8.11</td>\n      <td>14.3</td>\n      <td>36.019181</td>\n    </tr>\n    <tr>\n      <th>561.0</th>\n      <td>CamdenTown</td>\n      <td>CamdenTown1</td>\n      <td>CT101</td>\n      <td>561.0</td>\n      <td>English</td>\n      <td>0</td>\n      <td>2019-05-02 11:40:00</td>\n      <td>2019-05-02 11:43:00</td>\n      <td>51.539124</td>\n      <td>-0.142624</td>\n      <td>...</td>\n      <td>0.01700</td>\n      <td>0.358</td>\n      <td>0.309</td>\n      <td>79.72</td>\n      <td>70.07</td>\n      <td>7.78</td>\n      <td>7.81</td>\n      <td>8.11</td>\n      <td>14.3</td>\n      <td>36.019181</td>\n    </tr>\n    <tr>\n      <th>526.0</th>\n      <td>CamdenTown</td>\n      <td>CamdenTown1</td>\n      <td>CT101</td>\n      <td>526.0</td>\n      <td>English</td>\n      <td>0</td>\n      <td>2019-05-02 11:41:00</td>\n      <td>2019-05-02 11:44:00</td>\n      <td>51.539124</td>\n      <td>-0.142624</td>\n      <td>...</td>\n      <td>0.01700</td>\n      <td>0.358</td>\n      <td>0.309</td>\n      <td>79.72</td>\n      <td>70.07</td>\n      <td>7.78</td>\n      <td>7.81</td>\n      <td>8.11</td>\n      <td>14.3</td>\n      <td>36.019181</td>\n    </tr>\n    <tr>\n      <th>560.0</th>\n      <td>CamdenTown</td>\n      <td>CamdenTown1</td>\n      <td>CT102</td>\n      <td>560.0</td>\n      <td>English</td>\n      <td>0</td>\n      <td>2019-05-02 11:50:00</td>\n      <td>2019-05-02 11:53:00</td>\n      <td>51.539124</td>\n      <td>-0.142624</td>\n      <td>...</td>\n      <td>0.01790</td>\n      <td>0.362</td>\n      <td>0.268</td>\n      <td>80.27</td>\n      <td>71.26</td>\n      <td>8.38</td>\n      <td>6.25</td>\n      <td>7.82</td>\n      <td>14.7</td>\n      <td>40.523268</td>\n    </tr>\n    <tr>\n      <th>527.0</th>\n      <td>CamdenTown</td>\n      <td>CamdenTown1</td>\n      <td>CT103</td>\n      <td>527.0</td>\n      <td>English</td>\n      <td>0</td>\n      <td>2019-05-02 11:49:00</td>\n      <td>2019-05-02 11:54:00</td>\n      <td>51.539124</td>\n      <td>-0.142624</td>\n      <td>...</td>\n      <td>0.00889</td>\n      <td>0.370</td>\n      <td>0.193</td>\n      <td>76.79</td>\n      <td>66.71</td>\n      <td>4.23</td>\n      <td>7.61</td>\n      <td>3.99</td>\n      <td>13.4</td>\n      <td>27.108635</td>\n    </tr>\n  </tbody>\n</table>\n<p>5 rows × 78 columns</p>\n</div>"
     },
     "execution_count": 97,
     "metadata": {},
     "output_type": "execute_result"
    }
   ],
   "source": [
    "%autoreload\n",
    "sf2 = db.load_isd_dataset(version='latest')\n",
    "sf2.head()"
   ],
   "metadata": {
    "collapsed": false,
    "pycharm": {
     "name": "#%%\n"
    }
   }
  },
  {
   "cell_type": "code",
   "execution_count": 79,
   "outputs": [
    {
     "data": {
      "text/plain": "'V0.2.2'"
     },
     "execution_count": 79,
     "metadata": {},
     "output_type": "execute_result"
    }
   ],
   "source": [
    "sf2._version"
   ],
   "metadata": {
    "collapsed": false,
    "pycharm": {
     "name": "#%%\n"
    }
   }
  },
  {
   "cell_type": "code",
   "execution_count": 80,
   "outputs": [
    {
     "data": {
      "text/plain": "            LocationID      SessionID GroupID  RecordID Language  Lockdown  \\\nRecordID                                                                     \nNaN         CamdenTown    CamdenTown5   CT501       NaN      NaN         1   \nNaN         CamdenTown    CamdenTown5   CT502       NaN      NaN         1   \nNaN         CamdenTown    CamdenTown5   CT503       NaN      NaN         1   \nNaN         CamdenTown    CamdenTown5   CT504       NaN      NaN         1   \nNaN         CamdenTown    CamdenTown5   CT505       NaN      NaN         1   \n...                ...            ...     ...       ...      ...       ...   \nNaN       TorringtonSq  TorringtonSq5   TS537       NaN      NaN         1   \nNaN       TorringtonSq  TorringtonSq5   TS538       NaN      NaN         1   \nNaN       TorringtonSq  TorringtonSq5   TS539       NaN      NaN         1   \nNaN       TorringtonSq  TorringtonSq5   TS540       NaN      NaN         1   \nNaN       TorringtonSq  TorringtonSq5   TS541       NaN      NaN         1   \n\n         start_time end_time  latitude  longitude  ...  FS_Avg,arith(vacil)  \\\nRecordID                                           ...                        \nNaN             NaT      NaT       NaN        NaN  ...              0.00700   \nNaN             NaT      NaT       NaN        NaN  ...              0.00656   \nNaN             NaT      NaT       NaN        NaN  ...              0.01390   \nNaN             NaT      NaT       NaN        NaN  ...              0.01820   \nNaN             NaT      NaT       NaN        NaN  ...              0.01140   \n...             ...      ...       ...        ...  ...                  ...   \nNaN             NaT      NaT       NaN        NaN  ...              0.00550   \nNaN             NaT      NaT       NaN        NaN  ...              0.00916   \nNaN             NaT      NaT       NaN        NaN  ...              0.00967   \nNaN             NaT      NaT       NaN        NaN  ...              0.00902   \nNaN             NaT      NaT       NaN        NaN  ...              0.00930   \n\n          I_HM_Avg,arith(iu)  Ton_HM_Avg,arith(tuHMS)  LZeq_L(dB(SPL))  \\\nRecordID                                                                 \nNaN                    0.361                    0.175            74.52   \nNaN                    0.339                    0.287            78.27   \nNaN                    0.370                    0.181            84.71   \nNaN                    0.462                    0.177            73.67   \nNaN                    0.340                    0.267            79.07   \n...                      ...                      ...              ...   \nNaN                    0.399                    0.203            71.77   \nNaN                    0.359                    0.230            68.85   \nNaN                    0.363                    0.481            79.33   \nNaN                    0.445                    0.257            67.57   \nNaN                    0.404                    0.246            78.01   \n\n          LAeq_L(A)(dB(SPL))  LA10_LA90(dB(SPL))  LCeq_LAeq(dB(SPL))  \\\nRecordID                                                               \nNaN                    59.44               12.32                9.35   \nNaN                    69.67               15.15                7.19   \nNaN                    72.93               21.23                6.32   \nNaN                    62.28                8.99                7.76   \nNaN                    68.39               17.59                6.55   \n...                      ...                 ...                 ...   \nNaN                    52.90                5.61               12.97   \nNaN                    56.30               10.09                9.27   \nNaN                    64.32               14.80               13.95   \nNaN                    49.33                2.64               12.12   \nNaN                    59.17               16.54               14.17   \n\n          LC10_LC90(dB(SPL))  RA_2D_cp(cPa)  PA(Zwicker)  \nRecordID                                                  \nNaN                     8.93          11.70    18.410488  \nNaN                    11.39          12.90    37.721660  \nNaN                     9.70          15.50    40.301608  \nNaN                     5.27          12.80    20.047791  \nNaN                    11.89          12.50    37.685220  \n...                      ...            ...          ...  \nNaN                     8.31          10.80     9.987229  \nNaN                     8.16           9.99    14.359218  \nNaN                    20.39          10.90    30.033977  \nNaN                     5.04           9.62     7.882057  \nNaN                    17.02          11.10    20.284137  \n\n[571 rows x 78 columns]",
      "text/html": "<div>\n<style scoped>\n    .dataframe tbody tr th:only-of-type {\n        vertical-align: middle;\n    }\n\n    .dataframe tbody tr th {\n        vertical-align: top;\n    }\n\n    .dataframe thead th {\n        text-align: right;\n    }\n</style>\n<table border=\"1\" class=\"dataframe\">\n  <thead>\n    <tr style=\"text-align: right;\">\n      <th></th>\n      <th>LocationID</th>\n      <th>SessionID</th>\n      <th>GroupID</th>\n      <th>RecordID</th>\n      <th>Language</th>\n      <th>Lockdown</th>\n      <th>start_time</th>\n      <th>end_time</th>\n      <th>latitude</th>\n      <th>longitude</th>\n      <th>...</th>\n      <th>FS_Avg,arith(vacil)</th>\n      <th>I_HM_Avg,arith(iu)</th>\n      <th>Ton_HM_Avg,arith(tuHMS)</th>\n      <th>LZeq_L(dB(SPL))</th>\n      <th>LAeq_L(A)(dB(SPL))</th>\n      <th>LA10_LA90(dB(SPL))</th>\n      <th>LCeq_LAeq(dB(SPL))</th>\n      <th>LC10_LC90(dB(SPL))</th>\n      <th>RA_2D_cp(cPa)</th>\n      <th>PA(Zwicker)</th>\n    </tr>\n    <tr>\n      <th>RecordID</th>\n      <th></th>\n      <th></th>\n      <th></th>\n      <th></th>\n      <th></th>\n      <th></th>\n      <th></th>\n      <th></th>\n      <th></th>\n      <th></th>\n      <th></th>\n      <th></th>\n      <th></th>\n      <th></th>\n      <th></th>\n      <th></th>\n      <th></th>\n      <th></th>\n      <th></th>\n      <th></th>\n      <th></th>\n    </tr>\n  </thead>\n  <tbody>\n    <tr>\n      <th>NaN</th>\n      <td>CamdenTown</td>\n      <td>CamdenTown5</td>\n      <td>CT501</td>\n      <td>NaN</td>\n      <td>NaN</td>\n      <td>1</td>\n      <td>NaT</td>\n      <td>NaT</td>\n      <td>NaN</td>\n      <td>NaN</td>\n      <td>...</td>\n      <td>0.00700</td>\n      <td>0.361</td>\n      <td>0.175</td>\n      <td>74.52</td>\n      <td>59.44</td>\n      <td>12.32</td>\n      <td>9.35</td>\n      <td>8.93</td>\n      <td>11.70</td>\n      <td>18.410488</td>\n    </tr>\n    <tr>\n      <th>NaN</th>\n      <td>CamdenTown</td>\n      <td>CamdenTown5</td>\n      <td>CT502</td>\n      <td>NaN</td>\n      <td>NaN</td>\n      <td>1</td>\n      <td>NaT</td>\n      <td>NaT</td>\n      <td>NaN</td>\n      <td>NaN</td>\n      <td>...</td>\n      <td>0.00656</td>\n      <td>0.339</td>\n      <td>0.287</td>\n      <td>78.27</td>\n      <td>69.67</td>\n      <td>15.15</td>\n      <td>7.19</td>\n      <td>11.39</td>\n      <td>12.90</td>\n      <td>37.721660</td>\n    </tr>\n    <tr>\n      <th>NaN</th>\n      <td>CamdenTown</td>\n      <td>CamdenTown5</td>\n      <td>CT503</td>\n      <td>NaN</td>\n      <td>NaN</td>\n      <td>1</td>\n      <td>NaT</td>\n      <td>NaT</td>\n      <td>NaN</td>\n      <td>NaN</td>\n      <td>...</td>\n      <td>0.01390</td>\n      <td>0.370</td>\n      <td>0.181</td>\n      <td>84.71</td>\n      <td>72.93</td>\n      <td>21.23</td>\n      <td>6.32</td>\n      <td>9.70</td>\n      <td>15.50</td>\n      <td>40.301608</td>\n    </tr>\n    <tr>\n      <th>NaN</th>\n      <td>CamdenTown</td>\n      <td>CamdenTown5</td>\n      <td>CT504</td>\n      <td>NaN</td>\n      <td>NaN</td>\n      <td>1</td>\n      <td>NaT</td>\n      <td>NaT</td>\n      <td>NaN</td>\n      <td>NaN</td>\n      <td>...</td>\n      <td>0.01820</td>\n      <td>0.462</td>\n      <td>0.177</td>\n      <td>73.67</td>\n      <td>62.28</td>\n      <td>8.99</td>\n      <td>7.76</td>\n      <td>5.27</td>\n      <td>12.80</td>\n      <td>20.047791</td>\n    </tr>\n    <tr>\n      <th>NaN</th>\n      <td>CamdenTown</td>\n      <td>CamdenTown5</td>\n      <td>CT505</td>\n      <td>NaN</td>\n      <td>NaN</td>\n      <td>1</td>\n      <td>NaT</td>\n      <td>NaT</td>\n      <td>NaN</td>\n      <td>NaN</td>\n      <td>...</td>\n      <td>0.01140</td>\n      <td>0.340</td>\n      <td>0.267</td>\n      <td>79.07</td>\n      <td>68.39</td>\n      <td>17.59</td>\n      <td>6.55</td>\n      <td>11.89</td>\n      <td>12.50</td>\n      <td>37.685220</td>\n    </tr>\n    <tr>\n      <th>...</th>\n      <td>...</td>\n      <td>...</td>\n      <td>...</td>\n      <td>...</td>\n      <td>...</td>\n      <td>...</td>\n      <td>...</td>\n      <td>...</td>\n      <td>...</td>\n      <td>...</td>\n      <td>...</td>\n      <td>...</td>\n      <td>...</td>\n      <td>...</td>\n      <td>...</td>\n      <td>...</td>\n      <td>...</td>\n      <td>...</td>\n      <td>...</td>\n      <td>...</td>\n      <td>...</td>\n    </tr>\n    <tr>\n      <th>NaN</th>\n      <td>TorringtonSq</td>\n      <td>TorringtonSq5</td>\n      <td>TS537</td>\n      <td>NaN</td>\n      <td>NaN</td>\n      <td>1</td>\n      <td>NaT</td>\n      <td>NaT</td>\n      <td>NaN</td>\n      <td>NaN</td>\n      <td>...</td>\n      <td>0.00550</td>\n      <td>0.399</td>\n      <td>0.203</td>\n      <td>71.77</td>\n      <td>52.90</td>\n      <td>5.61</td>\n      <td>12.97</td>\n      <td>8.31</td>\n      <td>10.80</td>\n      <td>9.987229</td>\n    </tr>\n    <tr>\n      <th>NaN</th>\n      <td>TorringtonSq</td>\n      <td>TorringtonSq5</td>\n      <td>TS538</td>\n      <td>NaN</td>\n      <td>NaN</td>\n      <td>1</td>\n      <td>NaT</td>\n      <td>NaT</td>\n      <td>NaN</td>\n      <td>NaN</td>\n      <td>...</td>\n      <td>0.00916</td>\n      <td>0.359</td>\n      <td>0.230</td>\n      <td>68.85</td>\n      <td>56.30</td>\n      <td>10.09</td>\n      <td>9.27</td>\n      <td>8.16</td>\n      <td>9.99</td>\n      <td>14.359218</td>\n    </tr>\n    <tr>\n      <th>NaN</th>\n      <td>TorringtonSq</td>\n      <td>TorringtonSq5</td>\n      <td>TS539</td>\n      <td>NaN</td>\n      <td>NaN</td>\n      <td>1</td>\n      <td>NaT</td>\n      <td>NaT</td>\n      <td>NaN</td>\n      <td>NaN</td>\n      <td>...</td>\n      <td>0.00967</td>\n      <td>0.363</td>\n      <td>0.481</td>\n      <td>79.33</td>\n      <td>64.32</td>\n      <td>14.80</td>\n      <td>13.95</td>\n      <td>20.39</td>\n      <td>10.90</td>\n      <td>30.033977</td>\n    </tr>\n    <tr>\n      <th>NaN</th>\n      <td>TorringtonSq</td>\n      <td>TorringtonSq5</td>\n      <td>TS540</td>\n      <td>NaN</td>\n      <td>NaN</td>\n      <td>1</td>\n      <td>NaT</td>\n      <td>NaT</td>\n      <td>NaN</td>\n      <td>NaN</td>\n      <td>...</td>\n      <td>0.00902</td>\n      <td>0.445</td>\n      <td>0.257</td>\n      <td>67.57</td>\n      <td>49.33</td>\n      <td>2.64</td>\n      <td>12.12</td>\n      <td>5.04</td>\n      <td>9.62</td>\n      <td>7.882057</td>\n    </tr>\n    <tr>\n      <th>NaN</th>\n      <td>TorringtonSq</td>\n      <td>TorringtonSq5</td>\n      <td>TS541</td>\n      <td>NaN</td>\n      <td>NaN</td>\n      <td>1</td>\n      <td>NaT</td>\n      <td>NaT</td>\n      <td>NaN</td>\n      <td>NaN</td>\n      <td>...</td>\n      <td>0.00930</td>\n      <td>0.404</td>\n      <td>0.246</td>\n      <td>78.01</td>\n      <td>59.17</td>\n      <td>16.54</td>\n      <td>14.17</td>\n      <td>17.02</td>\n      <td>11.10</td>\n      <td>20.284137</td>\n    </tr>\n  </tbody>\n</table>\n<p>571 rows × 78 columns</p>\n</div>"
     },
     "execution_count": 80,
     "metadata": {},
     "output_type": "execute_result"
    }
   ],
   "source": [
    "sf2.filter_lockdown(is_lockdown=True)"
   ],
   "metadata": {
    "collapsed": false,
    "pycharm": {
     "name": "#%%\n"
    }
   }
  },
  {
   "cell_type": "code",
   "execution_count": 81,
   "outputs": [
    {
     "data": {
      "text/plain": "          RecordID GroupID      SessionID    LocationID  pleasant  vibrant  \\\nRecordID                                                                     \n525.0        525.0   CT101    CamdenTown1    CamdenTown       2.0      3.0   \n561.0        561.0   CT101    CamdenTown1    CamdenTown       3.0      2.0   \n526.0        526.0   CT101    CamdenTown1    CamdenTown       4.0      3.0   \n560.0        560.0   CT102    CamdenTown1    CamdenTown       4.0      2.0   \n527.0        527.0   CT103    CamdenTown1    CamdenTown       3.0      5.0   \n...            ...     ...            ...           ...       ...      ...   \nNaN            NaN   TS537  TorringtonSq5  TorringtonSq       NaN      NaN   \nNaN            NaN   TS538  TorringtonSq5  TorringtonSq       NaN      NaN   \nNaN            NaN   TS539  TorringtonSq5  TorringtonSq       NaN      NaN   \nNaN            NaN   TS540  TorringtonSq5  TorringtonSq       NaN      NaN   \nNaN            NaN   TS541  TorringtonSq5  TorringtonSq       NaN      NaN   \n\n          eventful  chaotic  annoying  monotonous  uneventful  calm  \nRecordID                                                             \n525.0          4.0      4.0       2.0         3.0         2.0   1.0  \n561.0          2.0      4.0       4.0         4.0         1.0   1.0  \n526.0          3.0      3.0       4.0         2.0         2.0   2.0  \n560.0          2.0      2.0       3.0         5.0         5.0   5.0  \n527.0          4.0      4.0       2.0         1.0         1.0   2.0  \n...            ...      ...       ...         ...         ...   ...  \nNaN            NaN      NaN       NaN         NaN         NaN   NaN  \nNaN            NaN      NaN       NaN         NaN         NaN   NaN  \nNaN            NaN      NaN       NaN         NaN         NaN   NaN  \nNaN            NaN      NaN       NaN         NaN         NaN   NaN  \nNaN            NaN      NaN       NaN         NaN         NaN   NaN  \n\n[1909 rows x 12 columns]",
      "text/html": "<div>\n<style scoped>\n    .dataframe tbody tr th:only-of-type {\n        vertical-align: middle;\n    }\n\n    .dataframe tbody tr th {\n        vertical-align: top;\n    }\n\n    .dataframe thead th {\n        text-align: right;\n    }\n</style>\n<table border=\"1\" class=\"dataframe\">\n  <thead>\n    <tr style=\"text-align: right;\">\n      <th></th>\n      <th>RecordID</th>\n      <th>GroupID</th>\n      <th>SessionID</th>\n      <th>LocationID</th>\n      <th>pleasant</th>\n      <th>vibrant</th>\n      <th>eventful</th>\n      <th>chaotic</th>\n      <th>annoying</th>\n      <th>monotonous</th>\n      <th>uneventful</th>\n      <th>calm</th>\n    </tr>\n    <tr>\n      <th>RecordID</th>\n      <th></th>\n      <th></th>\n      <th></th>\n      <th></th>\n      <th></th>\n      <th></th>\n      <th></th>\n      <th></th>\n      <th></th>\n      <th></th>\n      <th></th>\n      <th></th>\n    </tr>\n  </thead>\n  <tbody>\n    <tr>\n      <th>525.0</th>\n      <td>525.0</td>\n      <td>CT101</td>\n      <td>CamdenTown1</td>\n      <td>CamdenTown</td>\n      <td>2.0</td>\n      <td>3.0</td>\n      <td>4.0</td>\n      <td>4.0</td>\n      <td>2.0</td>\n      <td>3.0</td>\n      <td>2.0</td>\n      <td>1.0</td>\n    </tr>\n    <tr>\n      <th>561.0</th>\n      <td>561.0</td>\n      <td>CT101</td>\n      <td>CamdenTown1</td>\n      <td>CamdenTown</td>\n      <td>3.0</td>\n      <td>2.0</td>\n      <td>2.0</td>\n      <td>4.0</td>\n      <td>4.0</td>\n      <td>4.0</td>\n      <td>1.0</td>\n      <td>1.0</td>\n    </tr>\n    <tr>\n      <th>526.0</th>\n      <td>526.0</td>\n      <td>CT101</td>\n      <td>CamdenTown1</td>\n      <td>CamdenTown</td>\n      <td>4.0</td>\n      <td>3.0</td>\n      <td>3.0</td>\n      <td>3.0</td>\n      <td>4.0</td>\n      <td>2.0</td>\n      <td>2.0</td>\n      <td>2.0</td>\n    </tr>\n    <tr>\n      <th>560.0</th>\n      <td>560.0</td>\n      <td>CT102</td>\n      <td>CamdenTown1</td>\n      <td>CamdenTown</td>\n      <td>4.0</td>\n      <td>2.0</td>\n      <td>2.0</td>\n      <td>2.0</td>\n      <td>3.0</td>\n      <td>5.0</td>\n      <td>5.0</td>\n      <td>5.0</td>\n    </tr>\n    <tr>\n      <th>527.0</th>\n      <td>527.0</td>\n      <td>CT103</td>\n      <td>CamdenTown1</td>\n      <td>CamdenTown</td>\n      <td>3.0</td>\n      <td>5.0</td>\n      <td>4.0</td>\n      <td>4.0</td>\n      <td>2.0</td>\n      <td>1.0</td>\n      <td>1.0</td>\n      <td>2.0</td>\n    </tr>\n    <tr>\n      <th>...</th>\n      <td>...</td>\n      <td>...</td>\n      <td>...</td>\n      <td>...</td>\n      <td>...</td>\n      <td>...</td>\n      <td>...</td>\n      <td>...</td>\n      <td>...</td>\n      <td>...</td>\n      <td>...</td>\n      <td>...</td>\n    </tr>\n    <tr>\n      <th>NaN</th>\n      <td>NaN</td>\n      <td>TS537</td>\n      <td>TorringtonSq5</td>\n      <td>TorringtonSq</td>\n      <td>NaN</td>\n      <td>NaN</td>\n      <td>NaN</td>\n      <td>NaN</td>\n      <td>NaN</td>\n      <td>NaN</td>\n      <td>NaN</td>\n      <td>NaN</td>\n    </tr>\n    <tr>\n      <th>NaN</th>\n      <td>NaN</td>\n      <td>TS538</td>\n      <td>TorringtonSq5</td>\n      <td>TorringtonSq</td>\n      <td>NaN</td>\n      <td>NaN</td>\n      <td>NaN</td>\n      <td>NaN</td>\n      <td>NaN</td>\n      <td>NaN</td>\n      <td>NaN</td>\n      <td>NaN</td>\n    </tr>\n    <tr>\n      <th>NaN</th>\n      <td>NaN</td>\n      <td>TS539</td>\n      <td>TorringtonSq5</td>\n      <td>TorringtonSq</td>\n      <td>NaN</td>\n      <td>NaN</td>\n      <td>NaN</td>\n      <td>NaN</td>\n      <td>NaN</td>\n      <td>NaN</td>\n      <td>NaN</td>\n      <td>NaN</td>\n    </tr>\n    <tr>\n      <th>NaN</th>\n      <td>NaN</td>\n      <td>TS540</td>\n      <td>TorringtonSq5</td>\n      <td>TorringtonSq</td>\n      <td>NaN</td>\n      <td>NaN</td>\n      <td>NaN</td>\n      <td>NaN</td>\n      <td>NaN</td>\n      <td>NaN</td>\n      <td>NaN</td>\n      <td>NaN</td>\n    </tr>\n    <tr>\n      <th>NaN</th>\n      <td>NaN</td>\n      <td>TS541</td>\n      <td>TorringtonSq5</td>\n      <td>TorringtonSq</td>\n      <td>NaN</td>\n      <td>NaN</td>\n      <td>NaN</td>\n      <td>NaN</td>\n      <td>NaN</td>\n      <td>NaN</td>\n      <td>NaN</td>\n      <td>NaN</td>\n    </tr>\n  </tbody>\n</table>\n<p>1909 rows × 12 columns</p>\n</div>"
     },
     "execution_count": 81,
     "metadata": {},
     "output_type": "execute_result"
    }
   ],
   "source": [
    "sf2.return_paqs()"
   ],
   "metadata": {
    "collapsed": false,
    "pycharm": {
     "name": "#%%\n"
    }
   }
  },
  {
   "cell_type": "code",
   "execution_count": 93,
   "outputs": [
    {
     "ename": "ValueError",
     "evalue": "The palette list has the wrong number of colors.",
     "output_type": "error",
     "traceback": [
      "\u001B[0;31m---------------------------------------------------------------------------\u001B[0m",
      "\u001B[0;31mValueError\u001B[0m                                Traceback (most recent call last)",
      "\u001B[0;32m~/Documents/GitHub/Soundscapy/soundscapy/ssid/plotting.py\u001B[0m in \u001B[0;36m<module>\u001B[0;34m\u001B[0m\n\u001B[1;32m      4\u001B[0m \u001B[0;32mfrom\u001B[0m \u001B[0msoundscapy\u001B[0m\u001B[0;34m.\u001B[0m\u001B[0mssid\u001B[0m\u001B[0;34m.\u001B[0m\u001B[0mparameters\u001B[0m \u001B[0;32mimport\u001B[0m \u001B[0mLOCATION_IDS\u001B[0m\u001B[0;34m\u001B[0m\u001B[0;34m\u001B[0m\u001B[0m\n\u001B[1;32m      5\u001B[0m \u001B[0mfig\u001B[0m\u001B[0;34m,\u001B[0m \u001B[0max\u001B[0m \u001B[0;34m=\u001B[0m \u001B[0mplt\u001B[0m\u001B[0;34m.\u001B[0m\u001B[0msubplots\u001B[0m\u001B[0;34m(\u001B[0m\u001B[0;36m1\u001B[0m\u001B[0;34m,\u001B[0m\u001B[0;36m1\u001B[0m\u001B[0;34m,\u001B[0m\u001B[0mfigsize\u001B[0m\u001B[0;34m=\u001B[0m\u001B[0;34m(\u001B[0m\u001B[0;36m8\u001B[0m\u001B[0;34m,\u001B[0m\u001B[0;36m8\u001B[0m\u001B[0;34m)\u001B[0m\u001B[0;34m)\u001B[0m\u001B[0;34m\u001B[0m\u001B[0;34m\u001B[0m\u001B[0m\n\u001B[0;32m----> 6\u001B[0;31m \u001B[0msf2\u001B[0m\u001B[0;34m.\u001B[0m\u001B[0mcircumplex_scatter\u001B[0m\u001B[0;34m(\u001B[0m\u001B[0max\u001B[0m\u001B[0;34m,\u001B[0m \u001B[0mpalette\u001B[0m\u001B[0;34m=\u001B[0m\u001B[0msns\u001B[0m\u001B[0;34m.\u001B[0m\u001B[0mcolor_palette\u001B[0m\u001B[0;34m(\u001B[0m\u001B[0;34m\"husl\"\u001B[0m\u001B[0;34m,\u001B[0m \u001B[0;36m1909\u001B[0m\u001B[0;34m)\u001B[0m\u001B[0;34m,\u001B[0m \u001B[0ms\u001B[0m\u001B[0;34m=\u001B[0m\u001B[0;36m10\u001B[0m\u001B[0;34m)\u001B[0m\u001B[0;34m\u001B[0m\u001B[0;34m\u001B[0m\u001B[0m\n\u001B[0m",
      "\u001B[0;32m~/Documents/GitHub/Soundscapy/soundscapy/ssid/database.py\u001B[0m in \u001B[0;36mcircumplex_scatter\u001B[0;34m(self, ax, title, group, x, y, prim_labels, diagonal_lines, palette, legend, legend_loc, s, **scatter_kwargs)\u001B[0m\n\u001B[1;32m    425\u001B[0m         \u001B[0;34m**\u001B[0m\u001B[0mscatter_kwargs\u001B[0m\u001B[0;34m,\u001B[0m\u001B[0;34m\u001B[0m\u001B[0;34m\u001B[0m\u001B[0m\n\u001B[1;32m    426\u001B[0m     ):\n\u001B[0;32m--> 427\u001B[0;31m         return plotting.circumplex_scatter(\n\u001B[0m\u001B[1;32m    428\u001B[0m             \u001B[0mself\u001B[0m\u001B[0;34m,\u001B[0m\u001B[0;34m\u001B[0m\u001B[0;34m\u001B[0m\u001B[0m\n\u001B[1;32m    429\u001B[0m             \u001B[0max\u001B[0m\u001B[0;34m,\u001B[0m\u001B[0;34m\u001B[0m\u001B[0;34m\u001B[0m\u001B[0m\n",
      "\u001B[0;32m~/Documents/GitHub/Soundscapy/soundscapy/ssid/plotting.py\u001B[0m in \u001B[0;36mcircumplex_scatter\u001B[0;34m(sf, ax, title, group, x, y, prim_labels, diagonal_lines, palette, legend, legend_loc, s, **scatter_kwargs)\u001B[0m\n\u001B[1;32m     87\u001B[0m         \u001B[0mgroup\u001B[0m \u001B[0;34m=\u001B[0m \u001B[0msf\u001B[0m\u001B[0;34m.\u001B[0m\u001B[0mindex\u001B[0m\u001B[0;34m.\u001B[0m\u001B[0mvalues\u001B[0m\u001B[0;34m\u001B[0m\u001B[0;34m\u001B[0m\u001B[0m\n\u001B[1;32m     88\u001B[0m \u001B[0;34m\u001B[0m\u001B[0m\n\u001B[0;32m---> 89\u001B[0;31m     sns.scatterplot(\n\u001B[0m\u001B[1;32m     90\u001B[0m         \u001B[0mdata\u001B[0m\u001B[0;34m=\u001B[0m\u001B[0msf\u001B[0m\u001B[0;34m,\u001B[0m\u001B[0;34m\u001B[0m\u001B[0;34m\u001B[0m\u001B[0m\n\u001B[1;32m     91\u001B[0m         \u001B[0mx\u001B[0m\u001B[0;34m=\u001B[0m\u001B[0mx\u001B[0m\u001B[0;34m,\u001B[0m\u001B[0;34m\u001B[0m\u001B[0;34m\u001B[0m\u001B[0m\n",
      "\u001B[0;32m/opt/miniconda3/envs/GenDataSci/lib/python3.9/site-packages/seaborn/_decorators.py\u001B[0m in \u001B[0;36minner_f\u001B[0;34m(*args, **kwargs)\u001B[0m\n\u001B[1;32m     44\u001B[0m             )\n\u001B[1;32m     45\u001B[0m         \u001B[0mkwargs\u001B[0m\u001B[0;34m.\u001B[0m\u001B[0mupdate\u001B[0m\u001B[0;34m(\u001B[0m\u001B[0;34m{\u001B[0m\u001B[0mk\u001B[0m\u001B[0;34m:\u001B[0m \u001B[0marg\u001B[0m \u001B[0;32mfor\u001B[0m \u001B[0mk\u001B[0m\u001B[0;34m,\u001B[0m \u001B[0marg\u001B[0m \u001B[0;32min\u001B[0m \u001B[0mzip\u001B[0m\u001B[0;34m(\u001B[0m\u001B[0msig\u001B[0m\u001B[0;34m.\u001B[0m\u001B[0mparameters\u001B[0m\u001B[0;34m,\u001B[0m \u001B[0margs\u001B[0m\u001B[0;34m)\u001B[0m\u001B[0;34m}\u001B[0m\u001B[0;34m)\u001B[0m\u001B[0;34m\u001B[0m\u001B[0;34m\u001B[0m\u001B[0m\n\u001B[0;32m---> 46\u001B[0;31m         \u001B[0;32mreturn\u001B[0m \u001B[0mf\u001B[0m\u001B[0;34m(\u001B[0m\u001B[0;34m**\u001B[0m\u001B[0mkwargs\u001B[0m\u001B[0;34m)\u001B[0m\u001B[0;34m\u001B[0m\u001B[0;34m\u001B[0m\u001B[0m\n\u001B[0m\u001B[1;32m     47\u001B[0m     \u001B[0;32mreturn\u001B[0m \u001B[0minner_f\u001B[0m\u001B[0;34m\u001B[0m\u001B[0;34m\u001B[0m\u001B[0m\n\u001B[1;32m     48\u001B[0m \u001B[0;34m\u001B[0m\u001B[0m\n",
      "\u001B[0;32m/opt/miniconda3/envs/GenDataSci/lib/python3.9/site-packages/seaborn/relational.py\u001B[0m in \u001B[0;36mscatterplot\u001B[0;34m(x, y, hue, style, size, data, palette, hue_order, hue_norm, sizes, size_order, size_norm, markers, style_order, x_bins, y_bins, units, estimator, ci, n_boot, alpha, x_jitter, y_jitter, legend, ax, **kwargs)\u001B[0m\n\u001B[1;32m    813\u001B[0m     )\n\u001B[1;32m    814\u001B[0m \u001B[0;34m\u001B[0m\u001B[0m\n\u001B[0;32m--> 815\u001B[0;31m     \u001B[0mp\u001B[0m\u001B[0;34m.\u001B[0m\u001B[0mmap_hue\u001B[0m\u001B[0;34m(\u001B[0m\u001B[0mpalette\u001B[0m\u001B[0;34m=\u001B[0m\u001B[0mpalette\u001B[0m\u001B[0;34m,\u001B[0m \u001B[0morder\u001B[0m\u001B[0;34m=\u001B[0m\u001B[0mhue_order\u001B[0m\u001B[0;34m,\u001B[0m \u001B[0mnorm\u001B[0m\u001B[0;34m=\u001B[0m\u001B[0mhue_norm\u001B[0m\u001B[0;34m)\u001B[0m\u001B[0;34m\u001B[0m\u001B[0;34m\u001B[0m\u001B[0m\n\u001B[0m\u001B[1;32m    816\u001B[0m     \u001B[0mp\u001B[0m\u001B[0;34m.\u001B[0m\u001B[0mmap_size\u001B[0m\u001B[0;34m(\u001B[0m\u001B[0msizes\u001B[0m\u001B[0;34m=\u001B[0m\u001B[0msizes\u001B[0m\u001B[0;34m,\u001B[0m \u001B[0morder\u001B[0m\u001B[0;34m=\u001B[0m\u001B[0msize_order\u001B[0m\u001B[0;34m,\u001B[0m \u001B[0mnorm\u001B[0m\u001B[0;34m=\u001B[0m\u001B[0msize_norm\u001B[0m\u001B[0;34m)\u001B[0m\u001B[0;34m\u001B[0m\u001B[0;34m\u001B[0m\u001B[0m\n\u001B[1;32m    817\u001B[0m     \u001B[0mp\u001B[0m\u001B[0;34m.\u001B[0m\u001B[0mmap_style\u001B[0m\u001B[0;34m(\u001B[0m\u001B[0mmarkers\u001B[0m\u001B[0;34m=\u001B[0m\u001B[0mmarkers\u001B[0m\u001B[0;34m,\u001B[0m \u001B[0morder\u001B[0m\u001B[0;34m=\u001B[0m\u001B[0mstyle_order\u001B[0m\u001B[0;34m)\u001B[0m\u001B[0;34m\u001B[0m\u001B[0;34m\u001B[0m\u001B[0m\n",
      "\u001B[0;32m/opt/miniconda3/envs/GenDataSci/lib/python3.9/site-packages/seaborn/_core.py\u001B[0m in \u001B[0;36mmap\u001B[0;34m(cls, plotter, *args, **kwargs)\u001B[0m\n\u001B[1;32m     51\u001B[0m         \u001B[0;31m# This method is assigned the __init__ docstring\u001B[0m\u001B[0;34m\u001B[0m\u001B[0;34m\u001B[0m\u001B[0m\n\u001B[1;32m     52\u001B[0m         \u001B[0mmethod_name\u001B[0m \u001B[0;34m=\u001B[0m \u001B[0;34m\"_{}_map\"\u001B[0m\u001B[0;34m.\u001B[0m\u001B[0mformat\u001B[0m\u001B[0;34m(\u001B[0m\u001B[0mcls\u001B[0m\u001B[0;34m.\u001B[0m\u001B[0m__name__\u001B[0m\u001B[0;34m[\u001B[0m\u001B[0;34m:\u001B[0m\u001B[0;34m-\u001B[0m\u001B[0;36m7\u001B[0m\u001B[0;34m]\u001B[0m\u001B[0;34m.\u001B[0m\u001B[0mlower\u001B[0m\u001B[0;34m(\u001B[0m\u001B[0;34m)\u001B[0m\u001B[0;34m)\u001B[0m\u001B[0;34m\u001B[0m\u001B[0;34m\u001B[0m\u001B[0m\n\u001B[0;32m---> 53\u001B[0;31m         \u001B[0msetattr\u001B[0m\u001B[0;34m(\u001B[0m\u001B[0mplotter\u001B[0m\u001B[0;34m,\u001B[0m \u001B[0mmethod_name\u001B[0m\u001B[0;34m,\u001B[0m \u001B[0mcls\u001B[0m\u001B[0;34m(\u001B[0m\u001B[0mplotter\u001B[0m\u001B[0;34m,\u001B[0m \u001B[0;34m*\u001B[0m\u001B[0margs\u001B[0m\u001B[0;34m,\u001B[0m \u001B[0;34m**\u001B[0m\u001B[0mkwargs\u001B[0m\u001B[0;34m)\u001B[0m\u001B[0;34m)\u001B[0m\u001B[0;34m\u001B[0m\u001B[0;34m\u001B[0m\u001B[0m\n\u001B[0m\u001B[1;32m     54\u001B[0m         \u001B[0;32mreturn\u001B[0m \u001B[0mplotter\u001B[0m\u001B[0;34m\u001B[0m\u001B[0;34m\u001B[0m\u001B[0m\n\u001B[1;32m     55\u001B[0m \u001B[0;34m\u001B[0m\u001B[0m\n",
      "\u001B[0;32m/opt/miniconda3/envs/GenDataSci/lib/python3.9/site-packages/seaborn/_core.py\u001B[0m in \u001B[0;36m__init__\u001B[0;34m(self, plotter, palette, order, norm)\u001B[0m\n\u001B[1;32m    116\u001B[0m \u001B[0;34m\u001B[0m\u001B[0m\n\u001B[1;32m    117\u001B[0m                 \u001B[0mcmap\u001B[0m \u001B[0;34m=\u001B[0m \u001B[0mnorm\u001B[0m \u001B[0;34m=\u001B[0m \u001B[0;32mNone\u001B[0m\u001B[0;34m\u001B[0m\u001B[0;34m\u001B[0m\u001B[0m\n\u001B[0;32m--> 118\u001B[0;31m                 levels, lookup_table = self.categorical_mapping(\n\u001B[0m\u001B[1;32m    119\u001B[0m                     \u001B[0mdata\u001B[0m\u001B[0;34m,\u001B[0m \u001B[0mpalette\u001B[0m\u001B[0;34m,\u001B[0m \u001B[0morder\u001B[0m\u001B[0;34m,\u001B[0m\u001B[0;34m\u001B[0m\u001B[0;34m\u001B[0m\u001B[0m\n\u001B[1;32m    120\u001B[0m                 )\n",
      "\u001B[0;32m/opt/miniconda3/envs/GenDataSci/lib/python3.9/site-packages/seaborn/_core.py\u001B[0m in \u001B[0;36mcategorical_mapping\u001B[0;34m(self, data, palette, order)\u001B[0m\n\u001B[1;32m    202\u001B[0m                 \u001B[0;32mif\u001B[0m \u001B[0mlen\u001B[0m\u001B[0;34m(\u001B[0m\u001B[0mpalette\u001B[0m\u001B[0;34m)\u001B[0m \u001B[0;34m!=\u001B[0m \u001B[0mn_colors\u001B[0m\u001B[0;34m:\u001B[0m\u001B[0;34m\u001B[0m\u001B[0;34m\u001B[0m\u001B[0m\n\u001B[1;32m    203\u001B[0m                     \u001B[0merr\u001B[0m \u001B[0;34m=\u001B[0m \u001B[0;34m\"The palette list has the wrong number of colors.\"\u001B[0m\u001B[0;34m\u001B[0m\u001B[0;34m\u001B[0m\u001B[0m\n\u001B[0;32m--> 204\u001B[0;31m                     \u001B[0;32mraise\u001B[0m \u001B[0mValueError\u001B[0m\u001B[0;34m(\u001B[0m\u001B[0merr\u001B[0m\u001B[0;34m)\u001B[0m\u001B[0;34m\u001B[0m\u001B[0;34m\u001B[0m\u001B[0m\n\u001B[0m\u001B[1;32m    205\u001B[0m                 \u001B[0mcolors\u001B[0m \u001B[0;34m=\u001B[0m \u001B[0mpalette\u001B[0m\u001B[0;34m\u001B[0m\u001B[0;34m\u001B[0m\u001B[0m\n\u001B[1;32m    206\u001B[0m             \u001B[0;32melse\u001B[0m\u001B[0;34m:\u001B[0m\u001B[0;34m\u001B[0m\u001B[0;34m\u001B[0m\u001B[0m\n",
      "\u001B[0;31mValueError\u001B[0m: The palette list has the wrong number of colors."
     ]
    },
    {
     "data": {
      "text/plain": "<Figure size 576x576 with 1 Axes>",
      "image/png": "[encoded data removed]"
     },
     "metadata": {
      "needs_background": "light"
     },
     "output_type": "display_data"
    }
   ],
   "source": [
    "import matplotlib.pyplot as plt\n",
    "import seaborn as sns\n",
    "from soundscapy.ssid import plotting\n",
    "from soundscapy.ssid.parameters import LOCATION_IDS\n",
    "fig, ax = plt.subplots(1,1,figsize=(8,8))\n",
    "sf2.circumplex_scatter(ax, palette=sns.color_palette(\"husl\", 1909), s=10)"
   ],
   "metadata": {
    "collapsed": false,
    "pycharm": {
     "name": "#%%\n"
    }
   }
  },
  {
   "cell_type": "code",
   "execution_count": 50,
   "outputs": [
    {
     "ename": "ValueError",
     "evalue": "The palette list has the wrong number of colors.",
     "output_type": "error",
     "traceback": [
      "\u001B[0;31m---------------------------------------------------------------------------\u001B[0m",
      "\u001B[0;31mValueError\u001B[0m                                Traceback (most recent call last)",
      "\u001B[0;32m/var/folders/hz/v1pcxjw915j01b1vxt_9my_w0000gq/T/ipykernel_30580/67483851.py\u001B[0m in \u001B[0;36m<module>\u001B[0;34m\u001B[0m\n\u001B[1;32m      5\u001B[0m \u001B[0mpalette\u001B[0m \u001B[0;34m=\u001B[0m \u001B[0msns\u001B[0m\u001B[0;34m.\u001B[0m\u001B[0mcolor_palette\u001B[0m\u001B[0;34m(\u001B[0m\u001B[0;34m'husl'\u001B[0m\u001B[0;34m,\u001B[0m \u001B[0mn_colors\u001B[0m\u001B[0;34m,\u001B[0m \u001B[0mas_cmap\u001B[0m\u001B[0;34m=\u001B[0m\u001B[0;32mFalse\u001B[0m\u001B[0;34m)\u001B[0m\u001B[0;34m\u001B[0m\u001B[0;34m\u001B[0m\u001B[0m\n\u001B[1;32m      6\u001B[0m \u001B[0mgroup\u001B[0m \u001B[0;34m=\u001B[0m \u001B[0msf2\u001B[0m\u001B[0;34m.\u001B[0m\u001B[0mindex\u001B[0m\u001B[0;34m.\u001B[0m\u001B[0mvalues\u001B[0m\u001B[0;34m\u001B[0m\u001B[0;34m\u001B[0m\u001B[0m\n\u001B[0;32m----> 7\u001B[0;31m sns.scatterplot(\n\u001B[0m\u001B[1;32m      8\u001B[0m     \u001B[0mdata\u001B[0m \u001B[0;34m=\u001B[0m \u001B[0msf2\u001B[0m\u001B[0;34m,\u001B[0m\u001B[0;34m\u001B[0m\u001B[0;34m\u001B[0m\u001B[0m\n\u001B[1;32m      9\u001B[0m     \u001B[0mx\u001B[0m\u001B[0;34m=\u001B[0m\u001B[0;34m'ISOPleasant'\u001B[0m\u001B[0;34m,\u001B[0m\u001B[0;34m\u001B[0m\u001B[0;34m\u001B[0m\u001B[0m\n",
      "\u001B[0;32m/opt/miniconda3/envs/GenDataSci/lib/python3.9/site-packages/seaborn/_decorators.py\u001B[0m in \u001B[0;36minner_f\u001B[0;34m(*args, **kwargs)\u001B[0m\n\u001B[1;32m     44\u001B[0m             )\n\u001B[1;32m     45\u001B[0m         \u001B[0mkwargs\u001B[0m\u001B[0;34m.\u001B[0m\u001B[0mupdate\u001B[0m\u001B[0;34m(\u001B[0m\u001B[0;34m{\u001B[0m\u001B[0mk\u001B[0m\u001B[0;34m:\u001B[0m \u001B[0marg\u001B[0m \u001B[0;32mfor\u001B[0m \u001B[0mk\u001B[0m\u001B[0;34m,\u001B[0m \u001B[0marg\u001B[0m \u001B[0;32min\u001B[0m \u001B[0mzip\u001B[0m\u001B[0;34m(\u001B[0m\u001B[0msig\u001B[0m\u001B[0;34m.\u001B[0m\u001B[0mparameters\u001B[0m\u001B[0;34m,\u001B[0m \u001B[0margs\u001B[0m\u001B[0;34m)\u001B[0m\u001B[0;34m}\u001B[0m\u001B[0;34m)\u001B[0m\u001B[0;34m\u001B[0m\u001B[0;34m\u001B[0m\u001B[0m\n\u001B[0;32m---> 46\u001B[0;31m         \u001B[0;32mreturn\u001B[0m \u001B[0mf\u001B[0m\u001B[0;34m(\u001B[0m\u001B[0;34m**\u001B[0m\u001B[0mkwargs\u001B[0m\u001B[0;34m)\u001B[0m\u001B[0;34m\u001B[0m\u001B[0;34m\u001B[0m\u001B[0m\n\u001B[0m\u001B[1;32m     47\u001B[0m     \u001B[0;32mreturn\u001B[0m \u001B[0minner_f\u001B[0m\u001B[0;34m\u001B[0m\u001B[0;34m\u001B[0m\u001B[0m\n\u001B[1;32m     48\u001B[0m \u001B[0;34m\u001B[0m\u001B[0m\n",
      "\u001B[0;32m/opt/miniconda3/envs/GenDataSci/lib/python3.9/site-packages/seaborn/relational.py\u001B[0m in \u001B[0;36mscatterplot\u001B[0;34m(x, y, hue, style, size, data, palette, hue_order, hue_norm, sizes, size_order, size_norm, markers, style_order, x_bins, y_bins, units, estimator, ci, n_boot, alpha, x_jitter, y_jitter, legend, ax, **kwargs)\u001B[0m\n\u001B[1;32m    813\u001B[0m     )\n\u001B[1;32m    814\u001B[0m \u001B[0;34m\u001B[0m\u001B[0m\n\u001B[0;32m--> 815\u001B[0;31m     \u001B[0mp\u001B[0m\u001B[0;34m.\u001B[0m\u001B[0mmap_hue\u001B[0m\u001B[0;34m(\u001B[0m\u001B[0mpalette\u001B[0m\u001B[0;34m=\u001B[0m\u001B[0mpalette\u001B[0m\u001B[0;34m,\u001B[0m \u001B[0morder\u001B[0m\u001B[0;34m=\u001B[0m\u001B[0mhue_order\u001B[0m\u001B[0;34m,\u001B[0m \u001B[0mnorm\u001B[0m\u001B[0;34m=\u001B[0m\u001B[0mhue_norm\u001B[0m\u001B[0;34m)\u001B[0m\u001B[0;34m\u001B[0m\u001B[0;34m\u001B[0m\u001B[0m\n\u001B[0m\u001B[1;32m    816\u001B[0m     \u001B[0mp\u001B[0m\u001B[0;34m.\u001B[0m\u001B[0mmap_size\u001B[0m\u001B[0;34m(\u001B[0m\u001B[0msizes\u001B[0m\u001B[0;34m=\u001B[0m\u001B[0msizes\u001B[0m\u001B[0;34m,\u001B[0m \u001B[0morder\u001B[0m\u001B[0;34m=\u001B[0m\u001B[0msize_order\u001B[0m\u001B[0;34m,\u001B[0m \u001B[0mnorm\u001B[0m\u001B[0;34m=\u001B[0m\u001B[0msize_norm\u001B[0m\u001B[0;34m)\u001B[0m\u001B[0;34m\u001B[0m\u001B[0;34m\u001B[0m\u001B[0m\n\u001B[1;32m    817\u001B[0m     \u001B[0mp\u001B[0m\u001B[0;34m.\u001B[0m\u001B[0mmap_style\u001B[0m\u001B[0;34m(\u001B[0m\u001B[0mmarkers\u001B[0m\u001B[0;34m=\u001B[0m\u001B[0mmarkers\u001B[0m\u001B[0;34m,\u001B[0m \u001B[0morder\u001B[0m\u001B[0;34m=\u001B[0m\u001B[0mstyle_order\u001B[0m\u001B[0;34m)\u001B[0m\u001B[0;34m\u001B[0m\u001B[0;34m\u001B[0m\u001B[0m\n",
      "\u001B[0;32m/opt/miniconda3/envs/GenDataSci/lib/python3.9/site-packages/seaborn/_core.py\u001B[0m in \u001B[0;36mmap\u001B[0;34m(cls, plotter, *args, **kwargs)\u001B[0m\n\u001B[1;32m     51\u001B[0m         \u001B[0;31m# This method is assigned the __init__ docstring\u001B[0m\u001B[0;34m\u001B[0m\u001B[0;34m\u001B[0m\u001B[0m\n\u001B[1;32m     52\u001B[0m         \u001B[0mmethod_name\u001B[0m \u001B[0;34m=\u001B[0m \u001B[0;34m\"_{}_map\"\u001B[0m\u001B[0;34m.\u001B[0m\u001B[0mformat\u001B[0m\u001B[0;34m(\u001B[0m\u001B[0mcls\u001B[0m\u001B[0;34m.\u001B[0m\u001B[0m__name__\u001B[0m\u001B[0;34m[\u001B[0m\u001B[0;34m:\u001B[0m\u001B[0;34m-\u001B[0m\u001B[0;36m7\u001B[0m\u001B[0;34m]\u001B[0m\u001B[0;34m.\u001B[0m\u001B[0mlower\u001B[0m\u001B[0;34m(\u001B[0m\u001B[0;34m)\u001B[0m\u001B[0;34m)\u001B[0m\u001B[0;34m\u001B[0m\u001B[0;34m\u001B[0m\u001B[0m\n\u001B[0;32m---> 53\u001B[0;31m         \u001B[0msetattr\u001B[0m\u001B[0;34m(\u001B[0m\u001B[0mplotter\u001B[0m\u001B[0;34m,\u001B[0m \u001B[0mmethod_name\u001B[0m\u001B[0;34m,\u001B[0m \u001B[0mcls\u001B[0m\u001B[0;34m(\u001B[0m\u001B[0mplotter\u001B[0m\u001B[0;34m,\u001B[0m \u001B[0;34m*\u001B[0m\u001B[0margs\u001B[0m\u001B[0;34m,\u001B[0m \u001B[0;34m**\u001B[0m\u001B[0mkwargs\u001B[0m\u001B[0;34m)\u001B[0m\u001B[0;34m)\u001B[0m\u001B[0;34m\u001B[0m\u001B[0;34m\u001B[0m\u001B[0m\n\u001B[0m\u001B[1;32m     54\u001B[0m         \u001B[0;32mreturn\u001B[0m \u001B[0mplotter\u001B[0m\u001B[0;34m\u001B[0m\u001B[0;34m\u001B[0m\u001B[0m\n\u001B[1;32m     55\u001B[0m \u001B[0;34m\u001B[0m\u001B[0m\n",
      "\u001B[0;32m/opt/miniconda3/envs/GenDataSci/lib/python3.9/site-packages/seaborn/_core.py\u001B[0m in \u001B[0;36m__init__\u001B[0;34m(self, plotter, palette, order, norm)\u001B[0m\n\u001B[1;32m    116\u001B[0m \u001B[0;34m\u001B[0m\u001B[0m\n\u001B[1;32m    117\u001B[0m                 \u001B[0mcmap\u001B[0m \u001B[0;34m=\u001B[0m \u001B[0mnorm\u001B[0m \u001B[0;34m=\u001B[0m \u001B[0;32mNone\u001B[0m\u001B[0;34m\u001B[0m\u001B[0;34m\u001B[0m\u001B[0m\n\u001B[0;32m--> 118\u001B[0;31m                 levels, lookup_table = self.categorical_mapping(\n\u001B[0m\u001B[1;32m    119\u001B[0m                     \u001B[0mdata\u001B[0m\u001B[0;34m,\u001B[0m \u001B[0mpalette\u001B[0m\u001B[0;34m,\u001B[0m \u001B[0morder\u001B[0m\u001B[0;34m,\u001B[0m\u001B[0;34m\u001B[0m\u001B[0;34m\u001B[0m\u001B[0m\n\u001B[1;32m    120\u001B[0m                 )\n",
      "\u001B[0;32m/opt/miniconda3/envs/GenDataSci/lib/python3.9/site-packages/seaborn/_core.py\u001B[0m in \u001B[0;36mcategorical_mapping\u001B[0;34m(self, data, palette, order)\u001B[0m\n\u001B[1;32m    202\u001B[0m                 \u001B[0;32mif\u001B[0m \u001B[0mlen\u001B[0m\u001B[0;34m(\u001B[0m\u001B[0mpalette\u001B[0m\u001B[0;34m)\u001B[0m \u001B[0;34m!=\u001B[0m \u001B[0mn_colors\u001B[0m\u001B[0;34m:\u001B[0m\u001B[0;34m\u001B[0m\u001B[0;34m\u001B[0m\u001B[0m\n\u001B[1;32m    203\u001B[0m                     \u001B[0merr\u001B[0m \u001B[0;34m=\u001B[0m \u001B[0;34m\"The palette list has the wrong number of colors.\"\u001B[0m\u001B[0;34m\u001B[0m\u001B[0;34m\u001B[0m\u001B[0m\n\u001B[0;32m--> 204\u001B[0;31m                     \u001B[0;32mraise\u001B[0m \u001B[0mValueError\u001B[0m\u001B[0;34m(\u001B[0m\u001B[0merr\u001B[0m\u001B[0;34m)\u001B[0m\u001B[0;34m\u001B[0m\u001B[0;34m\u001B[0m\u001B[0m\n\u001B[0m\u001B[1;32m    205\u001B[0m                 \u001B[0mcolors\u001B[0m \u001B[0;34m=\u001B[0m \u001B[0mpalette\u001B[0m\u001B[0;34m\u001B[0m\u001B[0;34m\u001B[0m\u001B[0m\n\u001B[1;32m    206\u001B[0m             \u001B[0;32melse\u001B[0m\u001B[0;34m:\u001B[0m\u001B[0;34m\u001B[0m\u001B[0;34m\u001B[0m\u001B[0m\n",
      "\u001B[0;31mValueError\u001B[0m: The palette list has the wrong number of colors."
     ]
    }
   ],
   "source": [
    "from soundscapy.ssid import plotting\n",
    "import seaborn as sns\n",
    "group = None\n",
    "n_colors = len(sf2[group].unique()) if group else len(sf2)\n",
    "palette = sns.color_palette('husl', n_colors, as_cmap=False)\n",
    "group = sf2.index.values\n",
    "sns.scatterplot(\n",
    "    data = sf2,\n",
    "    x='ISOPleasant',\n",
    "    y='ISOEventful',\n",
    "    hue=group,\n",
    "    s=100,\n",
    "    ax=ax,\n",
    "    palette=palette\n",
    ")"
   ],
   "metadata": {
    "collapsed": false,
    "pycharm": {
     "name": "#%%\n"
    }
   }
  },
  {
   "cell_type": "code",
   "execution_count": 19,
   "outputs": [
    {
     "data": {
      "text/plain": "   pleasant  vibrant  eventful  chaotic  annoying  monotonous  uneventful  \\\n0         3        3         2        1         3           3           3   \n1         2        2         3        3         1           3           3   \n2         4        4         1        3         1           4           3   \n3         4        1         2        1         4           3           2   \n4         3        1         3        4         4           1           2   \n\n   calm  ISOPleasant  ISOEventful  \n0     4     0.219670    -0.323223  \n1     4     0.103553    -0.146447  \n2     1     0.164214    -0.060660  \n3     4     0.073223    -0.366117  \n4     2    -0.250000     0.250000  ",
      "text/html": "<div>\n<style scoped>\n    .dataframe tbody tr th:only-of-type {\n        vertical-align: middle;\n    }\n\n    .dataframe tbody tr th {\n        vertical-align: top;\n    }\n\n    .dataframe thead th {\n        text-align: right;\n    }\n</style>\n<table border=\"1\" class=\"dataframe\">\n  <thead>\n    <tr style=\"text-align: right;\">\n      <th></th>\n      <th>pleasant</th>\n      <th>vibrant</th>\n      <th>eventful</th>\n      <th>chaotic</th>\n      <th>annoying</th>\n      <th>monotonous</th>\n      <th>uneventful</th>\n      <th>calm</th>\n      <th>ISOPleasant</th>\n      <th>ISOEventful</th>\n    </tr>\n  </thead>\n  <tbody>\n    <tr>\n      <th>0</th>\n      <td>3</td>\n      <td>3</td>\n      <td>2</td>\n      <td>1</td>\n      <td>3</td>\n      <td>3</td>\n      <td>3</td>\n      <td>4</td>\n      <td>0.219670</td>\n      <td>-0.323223</td>\n    </tr>\n    <tr>\n      <th>1</th>\n      <td>2</td>\n      <td>2</td>\n      <td>3</td>\n      <td>3</td>\n      <td>1</td>\n      <td>3</td>\n      <td>3</td>\n      <td>4</td>\n      <td>0.103553</td>\n      <td>-0.146447</td>\n    </tr>\n    <tr>\n      <th>2</th>\n      <td>4</td>\n      <td>4</td>\n      <td>1</td>\n      <td>3</td>\n      <td>1</td>\n      <td>4</td>\n      <td>3</td>\n      <td>1</td>\n      <td>0.164214</td>\n      <td>-0.060660</td>\n    </tr>\n    <tr>\n      <th>3</th>\n      <td>4</td>\n      <td>1</td>\n      <td>2</td>\n      <td>1</td>\n      <td>4</td>\n      <td>3</td>\n      <td>2</td>\n      <td>4</td>\n      <td>0.073223</td>\n      <td>-0.366117</td>\n    </tr>\n    <tr>\n      <th>4</th>\n      <td>3</td>\n      <td>1</td>\n      <td>3</td>\n      <td>4</td>\n      <td>4</td>\n      <td>1</td>\n      <td>2</td>\n      <td>2</td>\n      <td>-0.250000</td>\n      <td>0.250000</td>\n    </tr>\n  </tbody>\n</table>\n</div>"
     },
     "execution_count": 19,
     "metadata": {},
     "output_type": "execute_result"
    }
   ],
   "source": [
    "%autoreload\n",
    "sf3 = db.SurveyFrame().simulate_dataset(add_complex_paqs=True)\n",
    "sf3.head()"
   ],
   "metadata": {
    "collapsed": false,
    "pycharm": {
     "name": "#%%\n"
    }
   }
  },
  {
   "source": [
    "`SurveyFrame` is just an extension of the pandas `DataFrame`, with some new methods specific to the SSID surveys! You should be able to use any of the standard dataframe methods on it.\n",
    "\n",
    "`SurveyFrame` automatically tags itself with the date you're working with it, stored in `_analysis_date`"
   ],
   "cell_type": "markdown",
   "metadata": {}
  },
  {
   "cell_type": "code",
   "execution_count": 3,
   "metadata": {},
   "outputs": [
    {
     "output_type": "execute_result",
     "data": {
      "text/plain": [
       "'2021-01-24'"
      ]
     },
     "metadata": {},
     "execution_count": 3
    }
   ],
   "source": [
    "sf._analysis_date"
   ]
  },
  {
   "cell_type": "code",
   "execution_count": 4,
   "metadata": {},
   "outputs": [
    {
     "output_type": "execute_result",
     "data": {
      "text/plain": [
       "GroupID            CT101CT101CT101CT102CT103CT104CT201CT201CT202C...\n",
       "SessionID          LocationA1LocationA1LocationA1LocationA1Locati...\n",
       "LocationID         LocationALocationALocationALocationALocationAL...\n",
       "Country                     UKUKUKUKUKUKUKUKUKUKUKUKUKUKUKUKUKUKUKUK\n",
       "Traffic                                                           70\n",
       "Other                                                             53\n",
       "Human                                                             68\n",
       "Natural                                                           36\n",
       "pleasant                                                          73\n",
       "chaotic                                                           64\n",
       "vibrant                                                           71\n",
       "uneventful                                                        42\n",
       "calm                                                              60\n",
       "annoying                                                          43\n",
       "eventful                                                          68\n",
       "monotonous                                                        52\n",
       "overall                                                           66\n",
       "appropriateness                                                   74\n",
       "loudness                                                          64\n",
       "sss04                                                             46\n",
       "sss05                                                             72\n",
       "dtype: object"
      ]
     },
     "metadata": {},
     "execution_count": 4
    }
   ],
   "source": [
    "sf.sum()"
   ]
  },
  {
   "cell_type": "code",
   "execution_count": 12,
   "metadata": {},
   "outputs": [
    {
     "output_type": "execute_result",
     "data": {
      "text/plain": [
       "count    20.000000\n",
       "mean      0.210248\n",
       "std       0.366891\n",
       "min      -0.469670\n",
       "25%      -0.020146\n",
       "50%       0.176777\n",
       "75%       0.460248\n",
       "max       0.853553\n",
       "dtype: float64"
      ]
     },
     "metadata": {},
     "execution_count": 12
    }
   ],
   "source": [
    "Pleasant, Eventful = sf.calculate_complex_paqs()\n",
    "Pleasant.describe()"
   ]
  },
  {
   "cell_type": "code",
   "execution_count": 14,
   "metadata": {},
   "outputs": [
    {
     "output_type": "execute_result",
     "data": {
      "text/plain": [
       "record_id\n",
       "525    0.426777\n",
       "526    0.250000\n",
       "561    0.176777\n",
       "560   -0.750000\n",
       "527    0.750000\n",
       "528    0.676777\n",
       "563    0.383883\n",
       "570    0.853553\n",
       "564    0.676777\n",
       "569    0.646447\n",
       "567    0.457107\n",
       "568    0.353553\n",
       "792   -0.012563\n",
       "793   -0.457107\n",
       "794   -0.366117\n",
       "795    0.060660\n",
       "796    0.219670\n",
       "797   -0.146447\n",
       "798    0.207107\n",
       "799   -0.030330\n",
       "dtype: float64"
      ]
     },
     "metadata": {},
     "execution_count": 14
    }
   ],
   "source": [
    "Eventful"
   ]
  },
  {
   "cell_type": "code",
   "execution_count": null,
   "metadata": {},
   "outputs": [],
   "source": []
  }
 ]
}