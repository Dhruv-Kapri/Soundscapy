{
 "cells": [
  {
   "cell_type": "markdown",
   "id": "0d91b52d",
   "metadata": {
    "cell_marker": "\"\"\""
   },
   "source": [
    "# `Soundscapy` - Quick Start Guide\n",
    "\n",
    "By Andrew Mitchell, Research Fellow, University College London\n",
    "\n",
    "## Background\n",
    "\n",
    "`Soundscapy` is a python toolbox for analysing quantitative soundscape data. Urban soundscapes are typically assessed through surveys which ask respondents how they perceive the given soundscape. Particularly when collected following the technical specification ISO 12913, these surveys can constitute quantitative data about the soundscape perception. As proposed in *How to analyse and represent quantitative soundscape data* [(Mitchell, Aletta, & Kang, 2022)](https://asa.scitation.org/doi/full/10.1121/10.0009794), in order to describe the soundscape perception of a group or of a location, we should consider the distribution of responses. `Soundscapy`'s approach to soundscape analysis follows this approach and makes it simple to process soundscape data and visualise the distribution of responses. \n",
    "\n",
    "For more information on the theory underlying the assessments and forms of data collection, please see ISO 12913-Part 2, *The SSID Protocol* [(Mitchell, *et al.*, 2020)](https://www.mdpi.com/2076-3417/10/7/2397), and *How to analyse and represent quantitative soundscape data*.\n",
    "\n",
    "## This Notebook\n",
    "\n",
    "The purpose of this notebook is to give a brief overview of how `Soundscapy` works and how to quickly get started using it to analyse your own soundscape data. The example dataset used is *The International Soundscape Database (ISD)* (Mitchell, *et al.*, 2021), which is publicly available at [Zenodo](https://zenodo.org/record/6331810) and is free to use. `Soundscapy` expects data to follow the format used in the ISD, but can be adapted for similar datasets.\n",
    "\n",
    "----------\n",
    "\n",
    "## Installation\n",
    "\n",
    "`Soundscapy` is currently under active development. To install with `pip`:\n",
    "\n",
    "```\n",
    "pip install soundscapy\n",
    "```\n",
    "\n",
    "----"
   ]
  },
  {
   "cell_type": "markdown",
   "id": "92832595",
   "metadata": {
    "cell_marker": "\"\"\""
   },
   "source": [
    "## Working with data\n",
    "\n",
    "### Some technical notes\n",
    "`Soundscapy` is built on top of `pandas` DataFrames for working with the data. The majority of the functionality is implemented using `pandas` extensions, like `@register_dataframe_method`. In `Soundscapy`, these methods are contained within the `.isd` accessor. If you're not familiar with [`pandas` extensions](https://pandas.pydata.org/pandas-docs/stable/development/extending.html), they effectively allow us to create custom methods to apply to `pandas` DataFrames. You can access these using the `isd` namespace, as we'll show below.\n",
    "\n",
    "### Loading data\n",
    "\n",
    "Data can be loaded as normal using `pandas`' `read_csv()` or `read_excel()` functions. However, we have made a built in function to access the ISD directly from the Zenodo URL, which will automatically default to the latest version of the ISD. "
   ]
  },
  {
   "cell_type": "code",
   "execution_count": null,
   "id": "a65cc16e",
   "metadata": {},
   "outputs": [],
   "source": [
    "%load_ext autoreload\n",
    "%autoreload 2\n",
    "\n",
    "# Import Soundscapy\n",
    "import soundscapy\n",
    "from soundscapy.databases import isd\n",
    "\n",
    "df = isd.load_isd_dataset()\n",
    "df"
   ]
  },
  {
   "cell_type": "markdown",
   "id": "3d157d8a",
   "metadata": {
    "cell_marker": "\"\"\""
   },
   "source": [
    "### Data included\n",
    "\n",
    "The ISD contains two primary types of data - surveys and acoustic metrics. The surveys include several blocks of questions, the most important of which are the Perceptual Attribute Questions (PAQS). These form the 8 descriptors of the soundscape circumplex - pleasant, vibrant, eventful, chaotic, annoying, monotonous, uneventful, and calm. In addition, each survey includes other information about the soundscape and demographic characteristics (age, gender, etc.). Finally, the survey section includes identifiers of when and where the survey was conducted - the LocationID, SessionID, latitude, longitude, start_time, etc. \n",
    "\n",
    "The final bit of information for the survey is the `GroupID`. When stopping respondents in the survey space, they were often stopped as a group, for instance a couple walking through the space would be approached together and given the same `GroupID`. While each group completes the survey, a binaural audio recording is taken, typically lasting about 30 seconds. It is from these recordings that the acoustic data is calculated. Therefore, each `GroupID` can be connected to something like 1 to 10 surveys, and to one recording, or one set of acoustic features.\n",
    "\n",
    "Within the acoustic data are a set of psychoacoustic analyses calculated for each recording. For each metric, originally one value is calculated for each channel (right and left ear), and the maximum of the to channels is what is shown here.\n",
    "\n",
    "### Filtering data\n",
    "\n",
    "The ISD includes survey data and the accompanying acoustic data collected from respondents *in situ* in 13 urban locations in London and Venice. It also include recording-only data taken during the COVID-19 lockdowns in 2020. Since for this example we'll only be looking at survey data, we can start by filtering out the lockdown data.\n",
    "\n",
    "This is done using a method included in the `isd` `pandas` namespace."
   ]
  },
  {
   "cell_type": "code",
   "execution_count": null,
   "id": "0b141262",
   "metadata": {},
   "outputs": [],
   "source": [
    "df = df.isd.filter_lockdown()\n",
    "df.shape"
   ]
  },
  {
   "cell_type": "markdown",
   "id": "9a453c77",
   "metadata": {
    "cell_marker": "\"\"\""
   },
   "source": [
    "### Validating the dataset\n",
    " \n",
    "In order to validate that the dataset includes the data we would expect, and to check for missing or incorrect PAQ data, we use the `validate_dataset()` method. This method can also rename the PAQ columns if necessary."
   ]
  },
  {
   "cell_type": "code",
   "execution_count": null,
   "id": "09c10deb",
   "metadata": {},
   "outputs": [],
   "source": [
    "df, excl = df.isd.validate_dataset()\n",
    "df"
   ]
  },
  {
   "cell_type": "markdown",
   "id": "5a740754",
   "metadata": {
    "cell_marker": "\"\"\""
   },
   "source": [
    "When samples are found which need to be excluded based on the PAQ quality checks, a dataframe with these samples will be returned. Then we can take a look at which ones were excluded and why."
   ]
  },
  {
   "cell_type": "code",
   "execution_count": null,
   "id": "b7ecfab6",
   "metadata": {},
   "outputs": [],
   "source": [
    "excl.sspy.return_paqs()"
   ]
  },
  {
   "cell_type": "markdown",
   "id": "e55c982f",
   "metadata": {
    "cell_marker": "\"\"\""
   },
   "source": [
    "### Calculating the ISOPleasant and ISOEventful coordinate values\n",
    "\n",
    "The analysis methods used by `Soundscapy` are based firstly on converting the 8 PAQs into their projected pleasantness and eventfulness coordinate values (called ISOPleasant and ISOEventful). Although the ISD already includes these values, we'll show how to calculate them from the raw PAQs.\n",
    "\n",
    "Start by returning a version of the dataset which only includes the PAQs so we won't conflict with the pre-computed ISOCoordinate values."
   ]
  },
  {
   "cell_type": "code",
   "execution_count": null,
   "id": "a47ff92d",
   "metadata": {},
   "outputs": [],
   "source": [
    "paqs = df.sspy.return_paqs()\n",
    "paqs"
   ]
  },
  {
   "cell_type": "markdown",
   "id": "90d45517",
   "metadata": {
    "cell_marker": "\"\"\""
   },
   "source": [
    "Now, calculate the ISOCoordinate values."
   ]
  },
  {
   "cell_type": "code",
   "execution_count": null,
   "id": "4d4009ce",
   "metadata": {},
   "outputs": [],
   "source": [
    "paqs = paqs.sspy.add_paq_coords()\n",
    "paqs"
   ]
  },
  {
   "cell_type": "markdown",
   "id": "9ca3ce87",
   "metadata": {
    "cell_marker": "\"\"\""
   },
   "source": [
    "`Soundscapy` expects the PAQ values to be Likert scale values ranging from 1 to 5 by default, as specified in ISO 12913 and the SSID Protocol. However, it is possible to use data which, although structured the same way, has a different range of values. For instance this could be a 7-point Likert scale, or a 0 to 100 scale. By passing these numbers both to `validate_dataset()` and `add_paq_coords()` as the `val_range`, `Soundscapy` will check that the data conforms to what is expected and will automatically scale the ISOCoordinates from -1 to +1 depending on the original value range. \n",
    "\n",
    "For example:"
   ]
  },
  {
   "cell_type": "code",
   "execution_count": null,
   "id": "0392e984",
   "metadata": {},
   "outputs": [],
   "source": [
    "import pandas as pd\n",
    "val_range = (0, 100)\n",
    "sample_transform = {\n",
    "    \"RecordID\": [\"EX1\", \"EX2\"],\n",
    "    \"pleasant\": [40, 25],\n",
    "    \"vibrant\": [45, 31],\n",
    "    \"eventful\": [41, 54],\n",
    "    \"chaotic\": [24, 56],\n",
    "    \"annoying\": [8, 52],\n",
    "    \"monotonous\": [31, 55],\n",
    "    \"uneventful\": [37, 31],\n",
    "    \"calm\": [40, 10],\n",
    "}\n",
    "sample_transform = pd.DataFrame().from_dict(sample_transform)\n",
    "sample_transform, excl = sample_transform.sspy.validate_dataset(val_range=val_range)"
   ]
  },
  {
   "cell_type": "code",
   "execution_count": null,
   "id": "2f59bf2d",
   "metadata": {},
   "outputs": [],
   "source": [
    "sample_transform = sample_transform.sspy.add_paq_coords(val_range=val_range)\n",
    "sample_transform"
   ]
  },
  {
   "cell_type": "markdown",
   "id": "5f36fe38",
   "metadata": {
    "cell_marker": "\"\"\""
   },
   "source": [
    "### More filtering\n",
    "\n",
    "`Soundscapy` includes methods for several filters that are normally needed, such as filtering by `LocationID` or `SessionID`."
   ]
  },
  {
   "cell_type": "code",
   "execution_count": null,
   "id": "49b8abfc",
   "metadata": {},
   "outputs": [],
   "source": [
    "df.isd.filter_location_ids(['CamdenTown', 'PancrasLock'])"
   ]
  },
  {
   "cell_type": "code",
   "execution_count": null,
   "id": "755c33e6",
   "metadata": {},
   "outputs": [],
   "source": [
    "df.isd.filter_session_ids(['RegentsParkJapan1']).head()"
   ]
  },
  {
   "cell_type": "markdown",
   "id": "8b42213d",
   "metadata": {
    "cell_marker": "\"\"\""
   },
   "source": [
    "However, if more complex filters or some other custom filter is needed, `pandas` provides a very nice approach with its `query()` method. For instance, if we wanted to filter by gender:"
   ]
  },
  {
   "cell_type": "code",
   "execution_count": null,
   "id": "b5673ef6",
   "metadata": {},
   "outputs": [],
   "source": [
    "df.query(\"Gender == 'Female'\")"
   ]
  },
  {
   "cell_type": "markdown",
   "id": "dd7796b2",
   "metadata": {
    "cell_marker": "\"\"\""
   },
   "source": [
    "Or a more complex filter like women over 50:"
   ]
  },
  {
   "cell_type": "code",
   "execution_count": null,
   "id": "48ffc818",
   "metadata": {},
   "outputs": [],
   "source": [
    "df.query(\"Gender == 'Female' and Age > 50\")"
   ]
  },
  {
   "cell_type": "markdown",
   "id": "73ae7ed6",
   "metadata": {
    "cell_marker": "\"\"\""
   },
   "source": [
    "All of these filters can also be chained together. So, for instance, to return surveys from women over 50 taken in Camden Town, we would do:"
   ]
  },
  {
   "cell_type": "code",
   "execution_count": null,
   "id": "06b51f92",
   "metadata": {},
   "outputs": [],
   "source": [
    "df.isd.filter_location_ids(['CamdenTown']).query(\"Gender == 'Female' and Age > 50\")"
   ]
  },
  {
   "cell_type": "markdown",
   "id": "a36c3259",
   "metadata": {
    "cell_marker": "\"\"\""
   },
   "source": [
    "## Plotting\n",
    "\n",
    "Probably the most important part of the `Soundscapy` package is its methods for plotting soundscape circumplex data. Making use of the `seaborn kdeplot()`, we can visualise the distribution of responses within the soundscape circumplex. \n",
    "\n",
    "### Scatter plots\n",
    "\n",
    "The most basic plot is the `circumplex_scatter()`. \n",
    "\n",
    "First, we filter down to one location that we want to look at. Then, using the `circumplex_scatter()`, we can create a default formatted plot:"
   ]
  },
  {
   "cell_type": "code",
   "execution_count": null,
   "id": "f1ea15b6",
   "metadata": {},
   "outputs": [],
   "source": [
    "df.isd.filter_location_ids(['RussellSq']).sspy.scatter()"
   ]
  },
  {
   "cell_type": "markdown",
   "id": "f0c9e5a6",
   "metadata": {
    "cell_marker": "\"\"\""
   },
   "source": [
    "Each point in this scatter plot represents the ISOCoordinate values of one survey taken in Russell Square during all of the sessions. \n",
    "\n",
    "We can see that the `circumplex_scatter()` has added some customisations on top of the underlying `seaborn` plots. The first is to automatically scale the plot area to the -1 to +1 bounding of the circumplex. Second is the inclusion of a grid highlighting the typically quadrants of the circumplex. Finally, customised labels which make the relationship of the ISOPleasant and ISOEventful values more clear. \n",
    "\n",
    "This plot can be further customised though. For instance, if you don't like or need those custom primary labels, we can remove them by setting `prim_labels = False`. We could also add labels for the diagonal circumplex axes with `diagonal_lines = True`."
   ]
  },
  {
   "cell_type": "code",
   "execution_count": null,
   "id": "2f57b80a",
   "metadata": {},
   "outputs": [],
   "source": [
    "df.isd.filter_location_ids(['RussellSq']).sspy.scatter(diagonal_lines=True)"
   ]
  },
  {
   "cell_type": "markdown",
   "id": "6b31db08",
   "metadata": {
    "cell_marker": "\"\"\""
   },
   "source": [
    "It's also often very useful to plot the different sessions taken in the same location with different colours. This is done with the `hue` parameter. At the same time, we'll also add a legend and make the scatter points larger."
   ]
  },
  {
   "cell_type": "code",
   "execution_count": null,
   "id": "f1e71a75",
   "metadata": {},
   "outputs": [],
   "source": [
    "df.isd.filter_location_ids(['RussellSq']).sspy.scatter(hue='SessionID', legend=True, s=20, title='RussellSq Sessions')"
   ]
  },
  {
   "cell_type": "markdown",
   "id": "04658134",
   "metadata": {
    "cell_marker": "\"\"\""
   },
   "source": [
    "### Distribution Plots\n",
    "\n",
    "The real power of `Soundscapy` is in creating plots of the distribution of soundscape assessments. The interface for doing this is the same as the scatter plots above."
   ]
  },
  {
   "cell_type": "code",
   "execution_count": null,
   "id": "a5f3074b",
   "metadata": {},
   "outputs": [],
   "source": [
    "df.isd.filter_location_ids(['RussellSq']).sspy.density()"
   ]
  },
  {
   "cell_type": "markdown",
   "id": "2f506298",
   "metadata": {
    "cell_marker": "\"\"\""
   },
   "source": [
    "This can be customised in the same ways as the scatter plots. To see how the scatter points and the density heatmap are related, we can add scatter points to the density plot."
   ]
  },
  {
   "cell_type": "code",
   "execution_count": null,
   "id": "cee878b4",
   "metadata": {},
   "outputs": [],
   "source": [
    "df.isd.filter_location_ids('RussellSq').sspy.density(incl_scatter=True, alpha=0.75, hue=\"LocationID\")"
   ]
  },
  {
   "cell_type": "markdown",
   "id": "7d5f415b",
   "metadata": {
    "cell_marker": "\"\"\""
   },
   "source": [
    "*How to analyse* proposes a method for simplifying this plot, allowing easy comparison between multiple soundscapes. In the simplified version, rather than showing the full distribution heatmap, we plot only the 50th percentile density curve, showing the general shape of the soundscape.\n",
    "\n",
    "This is done by digging into `seaborn` `kdeplot()` and using its parameters `thresh` and `levels`. We'll also go ahead and customise some other aspects, such as the color palette."
   ]
  },
  {
   "cell_type": "code",
   "execution_count": null,
   "id": "9a24b8af",
   "metadata": {},
   "outputs": [],
   "source": [
    "df.isd.filter_location_ids(['RegentsParkJapan']).sspy.density(\n",
    "    title=\"Median perception contour and scatter plot of individual assessments\\n\\n\",\n",
    "    density_type=\"simple\",\n",
    "    hue=\"LocationID\",\n",
    "    legend=True,\n",
    "    palette=\"dark:gray\",\n",
    ")"
   ]
  },
  {
   "cell_type": "markdown",
   "id": "49bb65b7",
   "metadata": {
    "cell_marker": "\"\"\""
   },
   "source": [
    "As we said, this is particularly useful for comparing different soundscapes. So let's see how we can plot three different soundscapes at once."
   ]
  },
  {
   "cell_type": "code",
   "execution_count": null,
   "id": "3e6278c9",
   "metadata": {},
   "outputs": [],
   "source": [
    "df.isd.filter_location_ids(\n",
    "    [\"CamdenTown\", \"RussellSq\", \"PancrasLock\"]\n",
    ").sspy.density(\n",
    "    title=\"Comparison of the soundscapes of three urban spaces\\n\\n\",\n",
    "    hue=\"LocationID\",\n",
    "    density_type=\"simple\",\n",
    "    incl_scatter=False,\n",
    "    palette=\"husl\",\n",
    ")"
   ]
  },
  {
   "cell_type": "markdown",
   "id": "1763e3b3",
   "metadata": {
    "cell_marker": "\"\"\""
   },
   "source": [
    "### Jointplot"
   ]
  },
  {
   "cell_type": "markdown",
   "id": "721167ca",
   "metadata": {
    "cell_marker": "\"\"\""
   },
   "source": []
  },
  {
   "cell_type": "code",
   "execution_count": null,
   "id": "4e38944a",
   "metadata": {},
   "outputs": [],
   "source": [
    "df.isd.filter_location_ids([\"CamdenTown\", \"RussellSq\"]).sspy.jointplot(hue=\"LocationID\", marginal_kind=\"kde\", density_type=\"full\")"
   ]
  }
 ],
 "metadata": {
  "jupytext": {
   "cell_markers": "\"\"\""
  },
  "kernelspec": {
   "display_name": "soundscapy-dev-3.7-test",
   "language": "python",
   "name": "python3"
  }
 },
 "nbformat": 4,
 "nbformat_minor": 5
}
