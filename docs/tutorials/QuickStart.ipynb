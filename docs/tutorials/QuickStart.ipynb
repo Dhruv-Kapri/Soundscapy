{
 "cells": [
  {
   "cell_type": "markdown",
   "id": "0d91b52d",
   "metadata": {
    "cell_marker": "\"\"\""
   },
   "source": [
    "# `Soundscapy` - Quick Start Guide\n",
    "\n",
    "By Andrew Mitchell, Research Fellow, University College London\n",
    "\n",
    "## Background\n",
    "\n",
    "`Soundscapy` is a python toolbox for analysing quantitative soundscape data. Urban soundscapes are typically assessed through surveys which ask respondents how they perceive the given soundscape. Particularly when collected following the technical specification ISO 12913, these surveys can constitute quantitative data about the soundscape perception. As proposed in *How to analyse and represent quantitative soundscape data* [(Mitchell, Aletta, & Kang, 2022)](https://asa.scitation.org/doi/full/10.1121/10.0009794), in order to describe the soundscape perception of a group or of a location, we should consider the distribution of responses. `Soundscapy`'s approach to soundscape analysis follows this approach and makes it simple to process soundscape data and visualise the distribution of responses. \n",
    "\n",
    "For more information on the theory underlying the assessments and forms of data collection, please see ISO 12913-Part 2, *The SSID Protocol* [(Mitchell, *et al.*, 2020)](https://www.mdpi.com/2076-3417/10/7/2397), and *How to analyse and represent quantitative soundscape data*.\n",
    "\n",
    "## This Notebook\n",
    "\n",
    "The purpose of this notebook is to give a brief overview of how `Soundscapy` works and how to quickly get started using it to analyse your own soundscape data. The example dataset used is *The International Soundscape Database (ISD)* (Mitchell, *et al.*, 2021), which is publicly available at [Zenodo](https://zenodo.org/record/6331810) and is free to use. `Soundscapy` expects data to follow the format used in the ISD, but can be adapted for similar datasets.\n",
    "\n",
    "----------\n",
    "\n",
    "## Installation\n",
    "\n",
    "`Soundscapy` is currently under active development. To install with `pip`:\n",
    "\n",
    "```\n",
    "pip install soundscapy\n",
    "```\n",
    "\n",
    "----"
   ]
  },
  {
   "cell_type": "markdown",
   "id": "92832595",
   "metadata": {
    "cell_marker": "\"\"\""
   },
   "source": [
    "## Working with data\n",
    "\n",
    "### Loading data\n",
    "\n",
    "Data can be loaded as normal using `pandas`' `read_csv()` or `read_excel()` functions. However, we have made a built in function to access the ISD directly from the Zenodo URL, which will automatically default to the latest version of the ISD. "
   ]
  },
  {
   "cell_type": "code",
   "execution_count": 21,
   "id": "a65cc16e",
   "metadata": {
    "execution": {
     "iopub.execute_input": "2023-08-13T15:59:04.324365Z",
     "iopub.status.busy": "2023-08-13T15:59:04.324077Z",
     "iopub.status.idle": "2023-08-13T15:59:06.994240Z",
     "shell.execute_reply": "2023-08-13T15:59:06.993941Z"
    },
    "ExecuteTime": {
     "end_time": "2024-02-15T23:27:20.516045Z",
     "start_time": "2024-02-15T23:27:17.656214Z"
    }
   },
   "source": [
    "%load_ext autoreload\n",
    "%autoreload 2\n",
    "\n",
    "# Add soundscapy to the Python path\n",
    "import sys\n",
    "sys.path.append('../..')\n",
    "# Import Soundscapy\n",
    "import soundscapy as sspy\n",
    "from soundscapy.databases import isd\n",
    "\n",
    "df = isd.load()\n",
    "df"
   ],
   "outputs": []
  },
  {
   "cell_type": "markdown",
   "id": "3d157d8a",
   "metadata": {
    "cell_marker": "\"\"\""
   },
   "source": [
    "### Data included\n",
    "\n",
    "The ISD contains two primary types of data - surveys and acoustic metrics. The surveys include several blocks of questions, the most important of which are the Perceptual Attribute Questions (PAQS). These form the 8 descriptors of the soundscape circumplex - pleasant, vibrant, eventful, chaotic, annoying, monotonous, uneventful, and calm. In addition, each survey includes other information about the soundscape and demographic characteristics (age, gender, etc.). Finally, the survey section includes identifiers of when and where the survey was conducted - the LocationID, SessionID, latitude, longitude, start_time, etc. \n",
    "\n",
    "The final bit of information for the survey is the `GroupID`. When stopping respondents in the survey space, they were often stopped as a group, for instance a couple walking through the space would be approached together and given the same `GroupID`. While each group completes the survey, a binaural audio recording is taken, typically lasting about 30 seconds. It is from these recordings that the acoustic data is calculated. Therefore, each `GroupID` can be connected to something like 1 to 10 surveys, and to one recording, or one set of acoustic features.\n",
    "\n",
    "Within the acoustic data are a set of psychoacoustic analyses calculated for each recording. For each metric, originally one value is calculated for each channel (right and left ear), and the maximum of the to channels is what is shown here.\n"
   ]
  },
  {
   "cell_type": "code",
   "execution_count": 2,
   "id": "0b141262",
   "metadata": {
    "execution": {
     "iopub.execute_input": "2023-08-13T15:59:06.995880Z",
     "iopub.status.busy": "2023-08-13T15:59:06.995732Z",
     "iopub.status.idle": "2023-08-13T15:59:07.014372Z",
     "shell.execute_reply": "2023-08-13T15:59:07.014067Z"
    },
    "ExecuteTime": {
     "end_time": "2024-02-12T20:53:55.722925Z",
     "start_time": "2024-02-12T20:53:55.704771Z"
    }
   },
   "source": [
    "df.shape"
   ],
   "outputs": []
  },
  {
   "cell_type": "markdown",
   "id": "9a453c77",
   "metadata": {
    "cell_marker": "\"\"\""
   },
   "source": [
    "### Validating the dataset\n",
    " \n",
    "In order to validate that the dataset includes the data we would expect, and to check for missing or incorrect PAQ data, we use the `isd.validate()` function. This method can also rename the PAQ columns if necessary."
   ]
  },
  {
   "cell_type": "code",
   "execution_count": 3,
   "id": "09c10deb",
   "metadata": {
    "execution": {
     "iopub.execute_input": "2023-08-13T15:59:07.015773Z",
     "iopub.status.busy": "2023-08-13T15:59:07.015692Z",
     "iopub.status.idle": "2023-08-13T15:59:07.142918Z",
     "shell.execute_reply": "2023-08-13T15:59:07.142649Z"
    },
    "ExecuteTime": {
     "end_time": "2024-02-12T20:53:57.880801Z",
     "start_time": "2024-02-12T20:53:57.540594Z"
    }
   },
   "source": [
    "df, excl = isd.validate(df)\n",
    "df"
   ],
   "outputs": []
  },
  {
   "cell_type": "markdown",
   "id": "5a740754",
   "metadata": {
    "cell_marker": "\"\"\""
   },
   "source": [
    "When samples are found which need to be excluded based on the PAQ quality checks, a dataframe with these samples will be returned. Then we can take a look at which ones were excluded and why."
   ]
  },
  {
   "cell_type": "code",
   "execution_count": 4,
   "id": "b7ecfab6",
   "metadata": {
    "execution": {
     "iopub.execute_input": "2023-08-13T15:59:07.159329Z",
     "iopub.status.busy": "2023-08-13T15:59:07.159222Z",
     "iopub.status.idle": "2023-08-13T15:59:07.188585Z",
     "shell.execute_reply": "2023-08-13T15:59:07.188315Z"
    },
    "ExecuteTime": {
     "end_time": "2024-02-12T20:54:05.374020Z",
     "start_time": "2024-02-12T20:54:05.344548Z"
    }
   },
   "source": [
    "sspy.surveys.return_paqs(excl)"
   ],
   "outputs": []
  },
  {
   "cell_type": "markdown",
   "id": "e55c982f",
   "metadata": {
    "cell_marker": "\"\"\""
   },
   "source": [
    "### Calculating the ISOPleasant and ISOEventful coordinate values\n",
    "\n",
    "The analysis methods used by `Soundscapy` are based firstly on converting the 8 PAQs into their projected pleasantness and eventfulness coordinate values (called ISOPleasant and ISOEventful)."
   ]
  },
  {
   "cell_type": "markdown",
   "id": "90d45517",
   "metadata": {
    "cell_marker": "\"\"\""
   },
   "source": [
    "Now, calculate the ISOCoordinate values."
   ]
  },
  {
   "cell_type": "code",
   "execution_count": 17,
   "id": "4d4009ce",
   "metadata": {
    "execution": {
     "iopub.execute_input": "2023-08-13T15:59:07.209049Z",
     "iopub.status.busy": "2023-08-13T15:59:07.208976Z",
     "iopub.status.idle": "2023-08-13T15:59:07.228318Z",
     "shell.execute_reply": "2023-08-13T15:59:07.228031Z"
    },
    "ExecuteTime": {
     "end_time": "2024-02-12T20:55:53.204587Z",
     "start_time": "2024-02-12T20:55:52.903754Z"
    }
   },
   "source": [
    "df = sspy.surveys.add_iso_coords(df)\n",
    "df"
   ],
   "outputs": []
  },
  {
   "cell_type": "markdown",
   "id": "9ca3ce87",
   "metadata": {
    "cell_marker": "\"\"\""
   },
   "source": [
    "`Soundscapy` expects the PAQ values to be Likert scale values ranging from 1 to 5 by default, as specified in ISO 12913 and the SSID Protocol. However, it is possible to use data which, although structured the same way, has a different range of values. For instance this could be a 7-point Likert scale, or a 0 to 100 scale. By passing these numbers both to `validate_dataset()` and `add_paq_coords()` as the `val_range`, `Soundscapy` will check that the data conforms to what is expected and will automatically scale the ISOCoordinates from -1 to +1 depending on the original value range. \n",
    "\n",
    "For example:"
   ]
  },
  {
   "cell_type": "code",
   "execution_count": 18,
   "id": "0392e984",
   "metadata": {
    "execution": {
     "iopub.execute_input": "2023-08-13T15:59:07.229603Z",
     "iopub.status.busy": "2023-08-13T15:59:07.229511Z",
     "iopub.status.idle": "2023-08-13T15:59:07.243861Z",
     "shell.execute_reply": "2023-08-13T15:59:07.243597Z"
    },
    "ExecuteTime": {
     "end_time": "2024-02-12T20:55:54.702120Z",
     "start_time": "2024-02-12T20:55:54.681696Z"
    }
   },
   "source": [
    "import pandas as pd\n",
    "val_range = (0, 100)\n",
    "sample_transform = {\n",
    "    \"RecordID\": [\"EX1\", \"EX2\"],\n",
    "    \"pleasant\": [40, 25],\n",
    "    \"vibrant\": [45, 31],\n",
    "    \"eventful\": [41, 54],\n",
    "    \"chaotic\": [24, 56],\n",
    "    \"annoying\": [8, 52],\n",
    "    \"monotonous\": [31, 55],\n",
    "    \"uneventful\": [37, 31],\n",
    "    \"calm\": [40, 10],\n",
    "}\n",
    "sample_transform = pd.DataFrame().from_dict(sample_transform)\n",
    "sample_transform, excl = isd.validate(sample_transform, val_range=val_range)"
   ],
   "outputs": []
  },
  {
   "cell_type": "code",
   "execution_count": 19,
   "id": "2f59bf2d",
   "metadata": {
    "execution": {
     "iopub.execute_input": "2023-08-13T15:59:07.245235Z",
     "iopub.status.busy": "2023-08-13T15:59:07.245117Z",
     "iopub.status.idle": "2023-08-13T15:59:07.263273Z",
     "shell.execute_reply": "2023-08-13T15:59:07.262981Z"
    },
    "ExecuteTime": {
     "end_time": "2024-02-12T20:55:55.508188Z",
     "start_time": "2024-02-12T20:55:55.475105Z"
    }
   },
   "source": [
    "sample_transform = sspy.surveys.add_iso_coords(sample_transform, val_range=val_range)\n",
    "sample_transform"
   ],
   "outputs": []
  },
  {
   "cell_type": "markdown",
   "id": "5f36fe38",
   "metadata": {
    "cell_marker": "\"\"\""
   },
   "source": [
    "### More filtering\n",
    "\n",
    "`Soundscapy` includes methods for several filters that are normally needed, such as filtering by `LocationID` or `SessionID`."
   ]
  },
  {
   "cell_type": "code",
   "execution_count": 20,
   "id": "49b8abfc",
   "metadata": {
    "execution": {
     "iopub.execute_input": "2023-08-13T15:59:07.264726Z",
     "iopub.status.busy": "2023-08-13T15:59:07.264642Z",
     "iopub.status.idle": "2023-08-13T15:59:07.285762Z",
     "shell.execute_reply": "2023-08-13T15:59:07.285519Z"
    },
    "ExecuteTime": {
     "end_time": "2024-02-12T20:55:56.972270Z",
     "start_time": "2024-02-12T20:55:56.942030Z"
    }
   },
   "source": [
    "isd.select_location_ids(df, ['CamdenTown', 'PancrasLock'])"
   ],
   "outputs": []
  },
  {
   "cell_type": "code",
   "execution_count": 21,
   "id": "755c33e6",
   "metadata": {
    "execution": {
     "iopub.execute_input": "2023-08-13T15:59:07.287083Z",
     "iopub.status.busy": "2023-08-13T15:59:07.287000Z",
     "iopub.status.idle": "2023-08-13T15:59:07.307953Z",
     "shell.execute_reply": "2023-08-13T15:59:07.307712Z"
    },
    "ExecuteTime": {
     "end_time": "2024-02-12T20:55:57.725066Z",
     "start_time": "2024-02-12T20:55:57.701449Z"
    }
   },
   "source": [
    "isd.select_session_ids(df, ['RegentsParkJapan1']).head()"
   ],
   "outputs": []
  },
  {
   "cell_type": "markdown",
   "id": "8b42213d",
   "metadata": {
    "cell_marker": "\"\"\""
   },
   "source": [
    "However, if more complex filters or some other custom filter is needed, `pandas` provides a very nice approach with its `query()` method. For instance, if we wanted to filter by gender:"
   ]
  },
  {
   "cell_type": "code",
   "execution_count": 22,
   "id": "b5673ef6",
   "metadata": {
    "execution": {
     "iopub.execute_input": "2023-08-13T15:59:07.309153Z",
     "iopub.status.busy": "2023-08-13T15:59:07.309079Z",
     "iopub.status.idle": "2023-08-13T15:59:07.329347Z",
     "shell.execute_reply": "2023-08-13T15:59:07.329079Z"
    },
    "ExecuteTime": {
     "end_time": "2024-02-12T20:55:58.894654Z",
     "start_time": "2024-02-12T20:55:58.869753Z"
    }
   },
   "source": [
    "df.query(\"gen00 == 'Female'\")"
   ],
   "outputs": []
  },
  {
   "cell_type": "markdown",
   "id": "dd7796b2",
   "metadata": {
    "cell_marker": "\"\"\""
   },
   "source": [
    "Or a more complex filter like women over 50:"
   ]
  },
  {
   "cell_type": "code",
   "execution_count": 23,
   "id": "48ffc818",
   "metadata": {
    "execution": {
     "iopub.execute_input": "2023-08-13T15:59:07.330602Z",
     "iopub.status.busy": "2023-08-13T15:59:07.330523Z",
     "iopub.status.idle": "2023-08-13T15:59:07.351739Z",
     "shell.execute_reply": "2023-08-13T15:59:07.351511Z"
    },
    "ExecuteTime": {
     "end_time": "2024-02-12T20:55:59.905053Z",
     "start_time": "2024-02-12T20:55:59.877522Z"
    }
   },
   "source": [
    "df.query(\"gen00 == 'Female' and age00 > 50\")"
   ],
   "outputs": []
  },
  {
   "cell_type": "markdown",
   "id": "73ae7ed6",
   "metadata": {
    "cell_marker": "\"\"\""
   },
   "source": [
    "All of these filters can also be chained together. So, for instance, to return surveys from women over 50 taken in Camden Town, we would do:"
   ]
  },
  {
   "cell_type": "code",
   "execution_count": 24,
   "id": "06b51f92",
   "metadata": {
    "execution": {
     "iopub.execute_input": "2023-08-13T15:59:07.352987Z",
     "iopub.status.busy": "2023-08-13T15:59:07.352919Z",
     "iopub.status.idle": "2023-08-13T15:59:07.374112Z",
     "shell.execute_reply": "2023-08-13T15:59:07.373866Z"
    },
    "ExecuteTime": {
     "end_time": "2024-02-12T20:56:01.109348Z",
     "start_time": "2024-02-12T20:56:01.077532Z"
    }
   },
   "source": [
    "isd.select_location_ids(df, 'CamdenTown').query(\"gen00 == 'Female' and age00 > 50\")"
   ],
   "outputs": []
  },
  {
   "cell_type": "markdown",
   "id": "a36c3259",
   "metadata": {
    "cell_marker": "\"\"\""
   },
   "source": [
    "## Plotting\n",
    "\n",
    "Probably the most important part of the `Soundscapy` package is its methods for plotting soundscape circumplex data. Making use of the `seaborn kdeplot()`, we can visualise the distribution of responses within the soundscape circumplex. \n",
    "\n",
    "### Scatter plots\n",
    "\n",
    "The most basic plot is the `circumplex_scatter()`. \n",
    "\n",
    "First, we filter down to one location that we want to look at. Then, using the `circumplex_scatter()`, we can create a default formatted plot:"
   ]
  },
  {
   "cell_type": "code",
   "execution_count": 25,
   "id": "f1ea15b6",
   "metadata": {
    "execution": {
     "iopub.execute_input": "2023-08-13T15:59:07.375368Z",
     "iopub.status.busy": "2023-08-13T15:59:07.375292Z",
     "iopub.status.idle": "2023-08-13T15:59:07.550905Z",
     "shell.execute_reply": "2023-08-13T15:59:07.550605Z"
    },
    "ExecuteTime": {
     "end_time": "2024-02-12T20:56:02.922279Z",
     "start_time": "2024-02-12T20:56:02.689609Z"
    }
   },
   "source": [
    "sspy.plotting.scatter(isd.select_location_ids(df, ['RussellSq']))"
   ],
   "outputs": []
  },
  {
   "cell_type": "markdown",
   "id": "f0c9e5a6",
   "metadata": {
    "cell_marker": "\"\"\""
   },
   "source": [
    "Each point in this scatter plot represents the ISOCoordinate values of one survey taken in Russell Square during all of the sessions. \n",
    "\n",
    "We can see that the `circumplex_scatter()` has added some customisations on top of the underlying `seaborn` plots. The first is to automatically scale the plot area to the -1 to +1 bounding of the circumplex. Second is the inclusion of a grid highlighting the typically quadrants of the circumplex. Finally, customised labels which make the relationship of the ISOPleasant and ISOEventful values more clear. \n",
    "\n",
    "This plot can be further customised though. For instance, if you don't like or need those custom primary labels, we can remove them by setting `prim_labels = False`. We could also add labels for the diagonal circumplex axes with `diagonal_lines = True`."
   ]
  },
  {
   "cell_type": "code",
   "execution_count": 26,
   "id": "2f57b80a",
   "metadata": {
    "execution": {
     "iopub.execute_input": "2023-08-13T15:59:07.552377Z",
     "iopub.status.busy": "2023-08-13T15:59:07.552255Z",
     "iopub.status.idle": "2023-08-13T15:59:07.727719Z",
     "shell.execute_reply": "2023-08-13T15:59:07.727349Z"
    },
    "ExecuteTime": {
     "end_time": "2024-02-12T20:56:04.704473Z",
     "start_time": "2024-02-12T20:56:04.470524Z"
    }
   },
   "source": [
    "sspy.plotting.scatter(\n",
    "    isd.select_location_ids(df, ['RussellSq']),\n",
    "    diagonal_lines=True,\n",
    "    )"
   ],
   "outputs": []
  },
  {
   "cell_type": "markdown",
   "id": "6b31db08",
   "metadata": {
    "cell_marker": "\"\"\""
   },
   "source": [
    "It's also often very useful to plot the different sessions taken in the same location with different colours. This is done with the `hue` parameter. At the same time, we'll also add a legend and make the scatter points larger."
   ]
  },
  {
   "cell_type": "code",
   "execution_count": 27,
   "id": "f1e71a75",
   "metadata": {
    "execution": {
     "iopub.execute_input": "2023-08-13T15:59:07.729384Z",
     "iopub.status.busy": "2023-08-13T15:59:07.729257Z",
     "iopub.status.idle": "2023-08-13T15:59:07.959221Z",
     "shell.execute_reply": "2023-08-13T15:59:07.958914Z"
    },
    "ExecuteTime": {
     "end_time": "2024-02-12T20:56:06.177091Z",
     "start_time": "2024-02-12T20:56:05.921869Z"
    }
   },
   "source": [
    "sspy.plotting.scatter(\n",
    "    isd.select_location_ids(df, ['RussellSq']),\n",
    "    hue='SessionID',\n",
    "    legend=True,\n",
    "    s=20,\n",
    "    title=\"RussellSq Sessions\"\n",
    "    )"
   ],
   "outputs": []
  },
  {
   "cell_type": "markdown",
   "id": "04658134",
   "metadata": {
    "cell_marker": "\"\"\""
   },
   "source": [
    "### Distribution Plots\n",
    "\n",
    "The real power of `Soundscapy` is in creating plots of the distribution of soundscape assessments. The interface for doing this is the same as the scatter plots above."
   ]
  },
  {
   "cell_type": "code",
   "execution_count": 28,
   "id": "a5f3074b",
   "metadata": {
    "execution": {
     "iopub.execute_input": "2023-08-13T15:59:07.960574Z",
     "iopub.status.busy": "2023-08-13T15:59:07.960473Z",
     "iopub.status.idle": "2023-08-13T15:59:08.174056Z",
     "shell.execute_reply": "2023-08-13T15:59:08.173818Z"
    },
    "ExecuteTime": {
     "end_time": "2024-02-12T20:56:07.887016Z",
     "start_time": "2024-02-12T20:56:07.615712Z"
    }
   },
   "source": [
    "sspy.plotting.density(isd.select_location_ids(df, ['RussellSq']))"
   ],
   "outputs": []
  },
  {
   "cell_type": "markdown",
   "id": "2f506298",
   "metadata": {
    "cell_marker": "\"\"\""
   },
   "source": [
    "This can be customised in the same ways as the scatter plots. To see how the scatter points and the density heatmap are related, we can add scatter points to the density plot."
   ]
  },
  {
   "cell_type": "code",
   "execution_count": 29,
   "id": "cee878b4",
   "metadata": {
    "execution": {
     "iopub.execute_input": "2023-08-13T15:59:08.175419Z",
     "iopub.status.busy": "2023-08-13T15:59:08.175325Z",
     "iopub.status.idle": "2023-08-13T15:59:08.396479Z",
     "shell.execute_reply": "2023-08-13T15:59:08.396149Z"
    },
    "ExecuteTime": {
     "end_time": "2024-02-12T20:56:09.378214Z",
     "start_time": "2024-02-12T20:56:09.100458Z"
    }
   },
   "source": [
    "sspy.plotting.density(\n",
    "    isd.select_location_ids(df, ['RussellSq']),\n",
    "    incl_scatter=True,\n",
    "    alpha=0.75,\n",
    "    hue=\"LocationID\"\n",
    "    )"
   ],
   "outputs": []
  },
  {
   "cell_type": "markdown",
   "id": "7d5f415b",
   "metadata": {
    "cell_marker": "\"\"\""
   },
   "source": [
    "*How to analyse* proposes a method for simplifying this plot, allowing easy comparison between multiple soundscapes. In the simplified version, rather than showing the full distribution heatmap, we plot only the 50th percentile density curve, showing the general shape of the soundscape.\n",
    "\n",
    "This is done by digging into `seaborn` `kdeplot()` and using its parameters `thresh` and `levels`. We'll also go ahead and customise some other aspects, such as the color palette."
   ]
  },
  {
   "cell_type": "code",
   "execution_count": 30,
   "id": "9a24b8af",
   "metadata": {
    "execution": {
     "iopub.execute_input": "2023-08-13T15:59:08.398015Z",
     "iopub.status.busy": "2023-08-13T15:59:08.397898Z",
     "iopub.status.idle": "2023-08-13T15:59:08.633091Z",
     "shell.execute_reply": "2023-08-13T15:59:08.632812Z"
    },
    "ExecuteTime": {
     "end_time": "2024-02-12T20:56:10.757734Z",
     "start_time": "2024-02-12T20:56:10.465702Z"
    }
   },
   "source": [
    "sspy.plotting.density(\n",
    "    isd.select_location_ids(df, ['RegentsParkJapan']),\n",
    "    title=\"Median perception contour and scatter plot of individual assessments\\n\\n\",\n",
    "    density_type=\"simple\",\n",
    "    hue=\"LocationID\",\n",
    "    legend=True,\n",
    "    palette=\"dark:gray\",\n",
    ")"
   ],
   "outputs": []
  },
  {
   "cell_type": "markdown",
   "id": "49bb65b7",
   "metadata": {
    "cell_marker": "\"\"\""
   },
   "source": [
    "As we said, this is particularly useful for comparing different soundscapes. So let's see how we can plot three different soundscapes at once."
   ]
  },
  {
   "cell_type": "code",
   "execution_count": 31,
   "id": "3e6278c9",
   "metadata": {
    "execution": {
     "iopub.execute_input": "2023-08-13T15:59:08.634481Z",
     "iopub.status.busy": "2023-08-13T15:59:08.634357Z",
     "iopub.status.idle": "2023-08-13T15:59:08.975682Z",
     "shell.execute_reply": "2023-08-13T15:59:08.975373Z"
    },
    "ExecuteTime": {
     "end_time": "2024-02-12T20:56:12.189913Z",
     "start_time": "2024-02-12T20:56:11.789766Z"
    }
   },
   "source": [
    "sspy.plotting.density(\n",
    "    isd.select_location_ids(df, [\"CamdenTown\", \"RussellSq\", \"PancrasLock\"]),\n",
    "    title=\"Comparison of the soundscapes of three urban spaces\\n\\n\",\n",
    "    hue=\"LocationID\",\n",
    "    density_type=\"simple\",\n",
    "    incl_scatter=False,\n",
    "    palette=\"husl\",\n",
    ")"
   ],
   "outputs": []
  },
  {
   "cell_type": "markdown",
   "id": "1763e3b3",
   "metadata": {
    "cell_marker": "\"\"\""
   },
   "source": [
    "### Jointplot"
   ]
  },
  {
   "cell_type": "markdown",
   "id": "721167ca",
   "metadata": {
    "cell_marker": "\"\"\""
   },
   "source": []
  },
  {
   "cell_type": "code",
   "execution_count": 32,
   "id": "4e38944a",
   "metadata": {
    "execution": {
     "iopub.execute_input": "2023-08-13T15:59:08.977241Z",
     "iopub.status.busy": "2023-08-13T15:59:08.977124Z",
     "iopub.status.idle": "2023-08-13T15:59:09.474725Z",
     "shell.execute_reply": "2023-08-13T15:59:09.474437Z"
    },
    "ExecuteTime": {
     "end_time": "2024-02-12T20:56:16.506040Z",
     "start_time": "2024-02-12T20:56:15.937726Z"
    }
   },
   "source": [
    "sspy.plotting.jointplot(\n",
    "        isd.select_location_ids(df, [\"CamdenTown\", \"RussellSq\"]),\n",
    "        hue=\"LocationID\", marginal_kind=\"kde\", density_type=\"full\")"
   ],
   "outputs": []
  },
  {
   "cell_type": "markdown",
   "source": [
    "### Using Adjusted Angles\n",
    "\n",
    "In Aletta et. al. (2024), we propose a method for adjusting the angles of the circumplex to better represent the perceptual space. These adjusted angles are derived for each language separately, meaning that, once projected, the circumplex coordinates will be comparable across all languages. This ability and the derived angles have been incorporated into `Soundscapy`."
   ],
   "metadata": {
    "collapsed": false
   },
   "id": "1f9b46d0fe6a0888"
  },
  {
   "cell_type": "code",
   "execution_count": 33,
   "id": "ee4a4c193f93596d",
   "metadata": {
    "collapsed": false,
    "ExecuteTime": {
     "end_time": "2024-02-12T20:56:18.449934Z",
     "start_time": "2024-02-12T20:56:17.724376Z"
    }
   },
   "source": [
    "from soundscapy.utils.parameters import LANGUAGE_ANGLES\n",
    "df = sspy.surveys.add_iso_coords(df, angles=LANGUAGE_ANGLES['eng'], names=(\"AdjustedPleasant\", \"AdjustedEventful\"))\n",
    "\n",
    "sspy.plotting.jointplot(\n",
    "        isd.select_location_ids(df, [\"CamdenTown\", \"RussellSq\"]),\n",
    "        x=\"AdjustedPleasant\", y=\"AdjustedEventful\",\n",
    "        hue=\"LocationID\", marginal_kind=\"kde\", density_type=\"full\")\n"
   ],
   "outputs": []
  },
  {
   "cell_type": "code",
   "execution_count": null,
   "source": [],
   "metadata": {
    "collapsed": false
   },
   "id": "2a55465967da8c0a",
   "outputs": []
  }
 ],
 "metadata": {
  "jupytext": {
   "cell_markers": "\"\"\""
  },
  "kernelspec": {
   "display_name": "soundscapy-dev-3.7-test",
   "language": "python",
   "name": "python3"
  },
  "language_info": {
   "codemirror_mode": {
    "name": "ipython",
    "version": 3
   },
   "file_extension": ".py",
   "mimetype": "text/x-python",
   "name": "python",
   "nbconvert_exporter": "python",
   "pygments_lexer": "ipython3",
   "version": "3.11.4"
  },
  "vscode": {
   "interpreter": {
    "hash": "839cba8ae7f7082c5bcb3c590fd12f2b3a15a875e42d2935e5155aa711605eac"
   }
  }
 },
 "nbformat": 4,
 "nbformat_minor": 5
}
